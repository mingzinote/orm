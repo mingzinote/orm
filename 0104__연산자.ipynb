{
  "nbformat": 4,
  "nbformat_minor": 0,
  "metadata": {
    "colab": {
      "provenance": [],
      "collapsed_sections": [
        "VtnAkaiJEFtr",
        "dLgUt2ZEFiwc",
        "qQQp9ciXJ4wR"
      ],
      "include_colab_link": true
    },
    "kernelspec": {
      "name": "python3",
      "display_name": "Python 3"
    },
    "language_info": {
      "name": "python"
    }
  },
  "cells": [
    {
      "cell_type": "markdown",
      "metadata": {
        "id": "view-in-github",
        "colab_type": "text"
      },
      "source": [
        "<a href=\"https://colab.research.google.com/github/mingzinote/orm/blob/main/0104__%EC%97%B0%EC%82%B0%EC%9E%90.ipynb\" target=\"_parent\"><img src=\"https://colab.research.google.com/assets/colab-badge.svg\" alt=\"Open In Colab\"/></a>"
      ]
    },
    {
      "cell_type": "markdown",
      "source": [
        "# 1. 산술연산자"
      ],
      "metadata": {
        "id": "CyaQW3EXWEUz"
      }
    },
    {
      "cell_type": "markdown",
      "source": [
        "* 덧셈 `+`\n",
        "* 뺄셈 `-`\n",
        "* 곱셈 `*`\n",
        "* 나눗셈 `/`, `//`\n",
        "* 나머지 `%`\n",
        "* 제곱 `**`"
      ],
      "metadata": {
        "id": "GNlOvE6mWF-i"
      }
    },
    {
      "cell_type": "markdown",
      "source": [
        "* 서로 다른 자료형끼리의 덧셈은 불가능.\\\n",
        "(ex: int + str)\n",
        "* 리스트 + 튜플 처럼 문자열끼리의 덧셈은 가능하다.\\\n",
        "* set은 덧셈은 안되지만 뺄셈은 가능."
      ],
      "metadata": {
        "id": "YTumqgA9Wz1S"
      }
    },
    {
      "cell_type": "code",
      "source": [
        "# 1.1 나누기\n",
        "\n",
        "a = 10\n",
        "b = 2\n",
        "print(a / b)  # 무조건 float값으로 반환됨\n",
        "print(a // b)  # int값으로 반환됨 # 내림연산"
      ],
      "metadata": {
        "colab": {
          "base_uri": "https://localhost:8080/"
        },
        "id": "w78BHzQQW_y7",
        "outputId": "8be7693c-c019-4524-f2cb-013ca7ab0a57"
      },
      "execution_count": null,
      "outputs": [
        {
          "output_type": "stream",
          "name": "stdout",
          "text": [
            "5.0\n",
            "5\n"
          ]
        }
      ]
    },
    {
      "cell_type": "code",
      "source": [
        "a = 10\n",
        "b = 3\n",
        "divide = a / b\n",
        "# 소수점 둘째자리까지 표현하고 싶을때\n",
        "print(f'{a} ÷ {b} = {divide:.2f}')  # 결과: 10 ÷ 3 = 3.33"
      ],
      "metadata": {
        "colab": {
          "base_uri": "https://localhost:8080/"
        },
        "id": "Hjm3QMa8XLml",
        "outputId": "505a1d93-268e-4f1c-c62c-d3e1178c1cbb"
      },
      "execution_count": null,
      "outputs": [
        {
          "output_type": "stream",
          "name": "stdout",
          "text": [
            "10 ÷ 3 = 3.33\n"
          ]
        }
      ]
    },
    {
      "cell_type": "code",
      "source": [
        "print(divide)"
      ],
      "metadata": {
        "colab": {
          "base_uri": "https://localhost:8080/"
        },
        "id": "aX7cHcYDXQ7P",
        "outputId": "b2f4f7a2-7e7b-4280-9522-aab4e426bb25"
      },
      "execution_count": null,
      "outputs": [
        {
          "output_type": "stream",
          "name": "stdout",
          "text": [
            "3.3333333333333335\n"
          ]
        }
      ]
    },
    {
      "cell_type": "code",
      "source": [
        "# 1.2 나머지\n",
        "\n",
        "print(10 / 3)  # 소수 몫\n",
        "print(10 // 3)  # 정수 몫\n",
        "print(10 % 3)  # 나머지"
      ],
      "metadata": {
        "colab": {
          "base_uri": "https://localhost:8080/"
        },
        "id": "jxc4nSdjXWZO",
        "outputId": "5b32cd22-5f9a-4078-c6bc-d3152358195b"
      },
      "execution_count": null,
      "outputs": [
        {
          "output_type": "stream",
          "name": "stdout",
          "text": [
            "3.3333333333333335\n",
            "3\n",
            "1\n"
          ]
        }
      ]
    },
    {
      "cell_type": "markdown",
      "source": [
        "* 알고리즘 문제에서 나머지 `%`문제 많이 나옴!!!!!"
      ],
      "metadata": {
        "id": "uW-1Oq3yXi-w"
      }
    },
    {
      "cell_type": "code",
      "source": [
        "# 1.3 제곱\n",
        "\n",
        "# 음수를 제곱해도 답이 음수로 반환됨.\n",
        "print(-2 ** 2)\n",
        "# (괄호)로 묶어줘야함\n",
        "print((-2) ** 2)"
      ],
      "metadata": {
        "colab": {
          "base_uri": "https://localhost:8080/"
        },
        "id": "-OfCAk_bXbh5",
        "outputId": "416cace6-ddad-4187-e0e9-9e6920d9d5d3"
      },
      "execution_count": null,
      "outputs": [
        {
          "output_type": "stream",
          "name": "stdout",
          "text": [
            "-4\n",
            "4\n"
          ]
        }
      ]
    },
    {
      "cell_type": "markdown",
      "source": [
        "* 파이썬은 후위 전/연산자가 없다!"
      ],
      "metadata": {
        "id": "h5i6i6hsXujG"
      }
    },
    {
      "cell_type": "markdown",
      "source": [
        "# 2. 비교연산자"
      ],
      "metadata": {
        "id": "HIEQOHcEX4mE"
      }
    },
    {
      "cell_type": "markdown",
      "source": [
        "* 같음 `==`\n",
        "* 같지않음 `!=`\n",
        "* 작음 `<`, 큼 `>`\n",
        "* 같거나 작음 `<=`, 같거나 큼 `>=`"
      ],
      "metadata": {
        "id": "iIS3TLmJX8am"
      }
    },
    {
      "cell_type": "markdown",
      "source": [
        "* 숫자뿐만 아니라 문자열, 리스트, 튜플 등등도 비교할 수 있다.유니코드 값으로 비교함."
      ],
      "metadata": {
        "id": "Wcns6FhEYV1u"
      }
    },
    {
      "cell_type": "code",
      "source": [
        "# 연속적인 비교\n",
        "\n",
        "x = 10\n",
        "print(5 < x < 15)"
      ],
      "metadata": {
        "colab": {
          "base_uri": "https://localhost:8080/"
        },
        "id": "bQfgLePkYkqw",
        "outputId": "69f66bc5-0cf8-4c0f-babc-96ccc8554e29"
      },
      "execution_count": null,
      "outputs": [
        {
          "output_type": "stream",
          "name": "stdout",
          "text": [
            "True\n"
          ]
        }
      ]
    },
    {
      "cell_type": "markdown",
      "source": [
        "* 리스트는 맨 앞자리로 비교\n",
        "* 같은 시퀀스형 자료형이라도 타입이 다르면 비교할 수 없다. ex)`[1, 2, 3] > (4, 5, 6)`"
      ],
      "metadata": {
        "id": "Ec5Jbv0_YueD"
      }
    },
    {
      "cell_type": "code",
      "source": [
        "# 부동소숫점의 비교\n",
        "\n",
        "import math\n",
        "\n",
        "result = 0.1 + 0.2\n",
        "print(result)"
      ],
      "metadata": {
        "colab": {
          "base_uri": "https://localhost:8080/"
        },
        "id": "FHThmzhnZMLl",
        "outputId": "d376da6d-dd5c-4f93-9ab4-6f82befe96e5"
      },
      "execution_count": null,
      "outputs": [
        {
          "output_type": "stream",
          "name": "stdout",
          "text": [
            "0.30000000000000004\n"
          ]
        }
      ]
    },
    {
      "cell_type": "code",
      "source": [
        "print(result == 0.3)                     # False\n",
        "print(math.isclose(result, 0.3))         # True\n",
        "print(math.isclose(result, 0.29))        # False\n",
        "print(math.isclose(result, 0.31))        # False\n",
        "print(math.isclose(result, 0.30000001))  # False"
      ],
      "metadata": {
        "colab": {
          "base_uri": "https://localhost:8080/"
        },
        "id": "5aQJbrf0ZY2j",
        "outputId": "51a03291-1fdd-4cfd-a86c-a16f060e74f7"
      },
      "execution_count": null,
      "outputs": [
        {
          "output_type": "stream",
          "name": "stdout",
          "text": [
            "False\n",
            "True\n",
            "False\n",
            "False\n",
            "False\n"
          ]
        }
      ]
    },
    {
      "cell_type": "markdown",
      "source": [
        "# 3. 논리(Bool)\n",
        "* `True`: 참을 나타냅니다. 1과 같은 값으로 취급됩니다.\n",
        "* `False`: 거짓을 나타냅니다. 0과 같은 값으로 취급됩니다."
      ],
      "metadata": {
        "id": "qmyMYpoaZ_F-"
      }
    },
    {
      "cell_type": "code",
      "source": [
        "print(True == 1)                         # 출력: True\n",
        "print(False == 0)                        # 출력: True"
      ],
      "metadata": {
        "colab": {
          "base_uri": "https://localhost:8080/"
        },
        "id": "IbKhz_DMaW92",
        "outputId": "7b7933b4-fd9a-4822-84aa-89be131a6ada"
      },
      "execution_count": null,
      "outputs": [
        {
          "output_type": "stream",
          "name": "stdout",
          "text": [
            "True\n",
            "True\n"
          ]
        }
      ]
    },
    {
      "cell_type": "code",
      "source": [
        "# 사칙연산도 가능하다.\n",
        "print(True + True)                       # 출력: 2\n",
        "print(False - True)                      # 출력: -1\n",
        "print(True / True)                       # 출력: 1.0\n",
        "print(True * False)                      # 출력: 0\n",
        "print(True / False)                      # error"
      ],
      "metadata": {
        "colab": {
          "base_uri": "https://localhost:8080/",
          "height": 287
        },
        "id": "8vEyek6Rab0D",
        "outputId": "f2ebe0ad-4ac9-48de-d581-026add5b4f43"
      },
      "execution_count": null,
      "outputs": [
        {
          "output_type": "stream",
          "name": "stdout",
          "text": [
            "2\n",
            "-1\n",
            "1.0\n",
            "0\n"
          ]
        },
        {
          "output_type": "error",
          "ename": "ZeroDivisionError",
          "evalue": "division by zero",
          "traceback": [
            "\u001b[0;31m---------------------------------------------------------------------------\u001b[0m",
            "\u001b[0;31mZeroDivisionError\u001b[0m                         Traceback (most recent call last)",
            "\u001b[0;32m<ipython-input-10-85b934fdd5f2>\u001b[0m in \u001b[0;36m<cell line: 6>\u001b[0;34m()\u001b[0m\n\u001b[1;32m      4\u001b[0m \u001b[0mprint\u001b[0m\u001b[0;34m(\u001b[0m\u001b[0;32mTrue\u001b[0m \u001b[0;34m/\u001b[0m \u001b[0;32mTrue\u001b[0m\u001b[0;34m)\u001b[0m                       \u001b[0;31m# 출력: 1.0\u001b[0m\u001b[0;34m\u001b[0m\u001b[0;34m\u001b[0m\u001b[0m\n\u001b[1;32m      5\u001b[0m \u001b[0mprint\u001b[0m\u001b[0;34m(\u001b[0m\u001b[0;32mTrue\u001b[0m \u001b[0;34m*\u001b[0m \u001b[0;32mFalse\u001b[0m\u001b[0;34m)\u001b[0m                      \u001b[0;31m# 출력: 0\u001b[0m\u001b[0;34m\u001b[0m\u001b[0;34m\u001b[0m\u001b[0m\n\u001b[0;32m----> 6\u001b[0;31m \u001b[0mprint\u001b[0m\u001b[0;34m(\u001b[0m\u001b[0;32mTrue\u001b[0m \u001b[0;34m/\u001b[0m \u001b[0;32mFalse\u001b[0m\u001b[0;34m)\u001b[0m                      \u001b[0;31m# error\u001b[0m\u001b[0;34m\u001b[0m\u001b[0;34m\u001b[0m\u001b[0m\n\u001b[0m",
            "\u001b[0;31mZeroDivisionError\u001b[0m: division by zero"
          ]
        }
      ]
    },
    {
      "cell_type": "markdown",
      "source": [
        "# 4. None\n",
        "‘비어 있다’, ‘아무것도 없다’, ‘정보가 없다’를 표현하고 싶을 때 사용하는 것이 None입니다. 아래처럼 표현할 수 있습니다.\n",
        "None 자료형은 가질 수 있는 값이 None이 유일합니다."
      ],
      "metadata": {
        "id": "KKTXzVQQa7MJ"
      }
    },
    {
      "cell_type": "code",
      "source": [
        "dir(None) # 매직메서드, 메서드 확인"
      ],
      "metadata": {
        "colab": {
          "base_uri": "https://localhost:8080/"
        },
        "id": "yj1srawSbKh-",
        "outputId": "d41fd53c-21a6-4068-aa2a-c467d3682c28"
      },
      "execution_count": null,
      "outputs": [
        {
          "output_type": "execute_result",
          "data": {
            "text/plain": [
              "['__bool__',\n",
              " '__class__',\n",
              " '__delattr__',\n",
              " '__dir__',\n",
              " '__doc__',\n",
              " '__eq__',\n",
              " '__format__',\n",
              " '__ge__',\n",
              " '__getattribute__',\n",
              " '__gt__',\n",
              " '__hash__',\n",
              " '__init__',\n",
              " '__init_subclass__',\n",
              " '__le__',\n",
              " '__lt__',\n",
              " '__ne__',\n",
              " '__new__',\n",
              " '__reduce__',\n",
              " '__reduce_ex__',\n",
              " '__repr__',\n",
              " '__setattr__',\n",
              " '__sizeof__',\n",
              " '__str__',\n",
              " '__subclasshook__']"
            ]
          },
          "metadata": {},
          "execution_count": 11
        }
      ]
    },
    {
      "cell_type": "markdown",
      "source": [
        "* **None**의 값은 항상 유일한 주소값"
      ],
      "metadata": {
        "id": "AjGv4nBAbNs0"
      }
    },
    {
      "cell_type": "code",
      "source": [
        "x = None\n",
        "y = None\n",
        "print(id(x), id(y))"
      ],
      "metadata": {
        "colab": {
          "base_uri": "https://localhost:8080/"
        },
        "id": "JEuoazCAbXxE",
        "outputId": "72e17fef-e1a3-4c63-856f-b7533b7f399f"
      },
      "execution_count": null,
      "outputs": [
        {
          "output_type": "stream",
          "name": "stdout",
          "text": [
            "102403925132256 102403925132256\n"
          ]
        }
      ]
    },
    {
      "cell_type": "code",
      "source": [
        "x = None\n",
        "\n",
        "print(x == None)\n",
        "# True, 하지만 이 방식은 권장되지 않습니다.\n",
        "\n",
        "print(x is None)\n",
        "# True, 이 방식을 사용하여 None을 확인하는 것이 좋습니다."
      ],
      "metadata": {
        "id": "QOTc7PjVbk23"
      },
      "execution_count": null,
      "outputs": []
    },
    {
      "cell_type": "markdown",
      "source": [
        "# 5. 메서드 체이닝"
      ],
      "metadata": {
        "id": "dyEdwgplbqAH"
      }
    },
    {
      "cell_type": "code",
      "source": [
        "# 백슬러쉬 사용해서 개행을 할 수 있습니다.\n",
        "# 아래처럼 중간 공백도 허용한다.\n",
        "sentence = '  Hello, World!  '\n",
        "result = sentence\\\n",
        "         .strip()\\\n",
        "         .lower()\\\n",
        "         .replace('world', 'python')\n",
        "\n",
        "print(result)  # 'hello, python!'"
      ],
      "metadata": {
        "colab": {
          "base_uri": "https://localhost:8080/"
        },
        "id": "017FcJbRb0jV",
        "outputId": "1776003e-ed3e-4b65-eb5f-8253e03622c0"
      },
      "execution_count": null,
      "outputs": [
        {
          "output_type": "stream",
          "name": "stdout",
          "text": [
            "hello, python!\n"
          ]
        }
      ]
    },
    {
      "cell_type": "code",
      "source": [
        "# 오류\n",
        "'010-1000-2000'.split('-').replace('0', 'x')"
      ],
      "metadata": {
        "id": "tYm8rbi8cAq1"
      },
      "execution_count": null,
      "outputs": []
    },
    {
      "cell_type": "markdown",
      "source": [
        "* split을 거치면 리스트로 변환하는데, 리스트에는 replace 메서드가 없기 때문에 오류가 발생한다.\n",
        "따라서 메서드 체이닝을 사용할 때에는 **순서에 주의**해야함."
      ],
      "metadata": {
        "id": "t24vnEZZcJhF"
      }
    },
    {
      "cell_type": "markdown",
      "source": [
        "# 6. 형변환"
      ],
      "metadata": {
        "id": "HJ9tYizLiIzp"
      }
    },
    {
      "cell_type": "code",
      "source": [],
      "metadata": {
        "id": "UjziNAxNiMZ1"
      },
      "execution_count": null,
      "outputs": []
    },
    {
      "cell_type": "markdown",
      "source": [
        "# 1. 논리연산"
      ],
      "metadata": {
        "id": "L2M9H2Q5A2Rw"
      }
    },
    {
      "cell_type": "markdown",
      "source": [
        "- 휴면고객에 대한 데이터를 받아서 가망고객 리스트 만들기\n",
        "\n",
        "휴면고객 100,000명(DB) ->  \n",
        "1차: 20~40대 먼저 거르면 -> 4만명(-6만명) ->  \n",
        "2차: 10만원 이하를 사용한 고객 거르면 -> 2만명(-2만명) ->  \n",
        "3차: 3번 이하로 구매한 고객 -> 1만명(-1만명)  \n",
        "----> 1만명에 대해서만  \n",
        "\n",
        "위와 같이 **가장 많이 걸러지는 조건을 맨 앞**에다 두어야 리소스를 줄일 수 있다."
      ],
      "metadata": {
        "id": "jG8HBQ6dBMAy"
      }
    },
    {
      "cell_type": "code",
      "execution_count": null,
      "metadata": {
        "colab": {
          "base_uri": "https://localhost:8080/"
        },
        "id": "V690p5ez7VZP",
        "outputId": "45b55eb5-9e67-4ba3-f9d8-4ac78b25494e"
      },
      "outputs": [
        {
          "output_type": "stream",
          "name": "stdout",
          "text": [
            "test1 함수 호출!\n",
            "False\n"
          ]
        }
      ],
      "source": [
        "# 예시\n",
        "# test1이 False이기 때문에 test2는 아예 호출되지 않는다.\n",
        "\n",
        "def test1():\n",
        "    print(\"test1 함수 호출!\")\n",
        "    return False\n",
        "\n",
        "def test2():\n",
        "    print(\"test2 함수 호출!\")\n",
        "    return True\n",
        "\n",
        "# 가장 많이 걸러지는 조건을 맨 앞에 두어야 리소스를 줄일 수 있다.\n",
        "\n",
        "result = test1() and test2()\n",
        "print(result) # 결과: False"
      ]
    },
    {
      "cell_type": "code",
      "source": [
        "# 퀴즈 4번\n",
        "0 and 1"
      ],
      "metadata": {
        "colab": {
          "base_uri": "https://localhost:8080/"
        },
        "id": "ffzxKYZxB7ji",
        "outputId": "f499177c-b2da-4b1b-849c-061e882cf048"
      },
      "execution_count": null,
      "outputs": [
        {
          "output_type": "execute_result",
          "data": {
            "text/plain": [
              "0"
            ]
          },
          "metadata": {},
          "execution_count": 6
        }
      ]
    },
    {
      "cell_type": "markdown",
      "source": [
        "# 2. 할당연산"
      ],
      "metadata": {
        "id": "VtnAkaiJEFtr"
      }
    },
    {
      "cell_type": "code",
      "source": [
        "x = 5\n",
        "y = 2\n",
        "z = 10\n",
        "\n",
        "x1 = y * z  # 20 = 2 * 10\n",
        "x2 = x + (y * z)  # 25 = 5 + (2*10)\n",
        "x += y * z  # y*z 연산 후 x에 값을 더한 뒤에 할당한다.\n",
        "print(x1)\n",
        "print(x2)\n",
        "print(x)  # 결과: 25"
      ],
      "metadata": {
        "colab": {
          "base_uri": "https://localhost:8080/"
        },
        "id": "f2SDsvrCEug3",
        "outputId": "441675db-8153-4c61-d522-b99e4574a9f5"
      },
      "execution_count": null,
      "outputs": [
        {
          "output_type": "stream",
          "name": "stdout",
          "text": [
            "20\n",
            "25\n",
            "25\n"
          ]
        }
      ]
    },
    {
      "cell_type": "code",
      "source": [
        "x += y * z\n",
        "print(x)\n",
        "# 위에서 x는 25값으로 반환되었기 때문에,\n",
        "# y*z = 20, x+20 = 45"
      ],
      "metadata": {
        "colab": {
          "base_uri": "https://localhost:8080/"
        },
        "id": "7nhH4bnNFDER",
        "outputId": "4744f45b-71a3-4217-9cde-5003745f92f4"
      },
      "execution_count": null,
      "outputs": [
        {
          "output_type": "stream",
          "name": "stdout",
          "text": [
            "45\n"
          ]
        }
      ]
    },
    {
      "cell_type": "markdown",
      "source": [
        "# 3. 식별연산\n",
        "식별 연산자는 두 변수가 동일한 객체를 참조하고 있는지 확인하는데 사용됩니다. 파이썬에서는 `is`와 `is not`을 사용하여 이를 확인할 수 있습니다.\n",
        "- is  \n",
        "두 변수가 같은 곳에 저장된 정보를 바라보고 있다면 ‘맞다’`(True)`를 알려줍니다. 다른 곳을 바라보고 있다면 ‘아니다’`(False)`를 알려줍니다.\n",
        "- is not  \n",
        "두 변수가 같은 곳에 저장된 정보를 바라보고 있다면 '아니다`(False)`'를 알려줍니다. 다른 곳을 바라보고 있다면 '맞다`(True)`'를 알려줍니다."
      ],
      "metadata": {
        "id": "dLgUt2ZEFiwc"
      }
    },
    {
      "cell_type": "code",
      "source": [
        "# 3.1 동일 인물 확인\n",
        "\n",
        "coffee_employee = \"Brand\"\n",
        "orange_employee = \"Brand\"\n",
        "\n",
        "print(coffee_employee is orange_employee) # 주소가 같은지\n",
        "print(coffee_employee == orange_employee) # 실제 값이 같은지"
      ],
      "metadata": {
        "colab": {
          "base_uri": "https://localhost:8080/"
        },
        "id": "XWQ-J5JnHONy",
        "outputId": "a3e296ae-652a-439d-9008-13445794b456"
      },
      "execution_count": null,
      "outputs": [
        {
          "output_type": "stream",
          "name": "stdout",
          "text": [
            "True\n",
            "True\n"
          ]
        }
      ]
    },
    {
      "cell_type": "code",
      "source": [
        "print(id(coffee_employee))\n",
        "print(id(orange_employee))"
      ],
      "metadata": {
        "colab": {
          "base_uri": "https://localhost:8080/"
        },
        "id": "c6ASBiNmIqOO",
        "outputId": "03028594-da5c-4cd9-b34f-078a8d434e10"
      },
      "execution_count": null,
      "outputs": [
        {
          "output_type": "stream",
          "name": "stdout",
          "text": [
            "134761658015536\n",
            "134761658015536\n"
          ]
        }
      ]
    },
    {
      "cell_type": "markdown",
      "source": [
        "-5부터 256까지는 같은 주소, 그 범위 밖은 주소가 달라진다."
      ],
      "metadata": {
        "id": "Xb1GXNekID1l"
      }
    },
    {
      "cell_type": "code",
      "source": [
        "coffee_employee = 257\n",
        "orange_employee = 257\n",
        "\n",
        "print(coffee_employee is orange_employee) # 주소가 같은지\n",
        "print(coffee_employee == orange_employee) # 실제 값이 같은지"
      ],
      "metadata": {
        "colab": {
          "base_uri": "https://localhost:8080/"
        },
        "id": "XoE6a8QtIOaZ",
        "outputId": "41ff8ce6-9a11-4559-8b1f-96254629af49"
      },
      "execution_count": null,
      "outputs": [
        {
          "output_type": "stream",
          "name": "stdout",
          "text": [
            "False\n",
            "True\n"
          ]
        }
      ]
    },
    {
      "cell_type": "markdown",
      "source": [
        "문자열은 공백을 주의하면 된다."
      ],
      "metadata": {
        "id": "WBIFhreLITQ_"
      }
    },
    {
      "cell_type": "code",
      "source": [
        "coffee_employee = \" Brand\"\n",
        "orange_employee = \" Brand\"\n",
        "\n",
        "print(coffee_employee is orange_employee) # 주소가 같은지\n",
        "print(coffee_employee == orange_employee) # 실제 값이 같은지"
      ],
      "metadata": {
        "colab": {
          "base_uri": "https://localhost:8080/"
        },
        "id": "65Dkzy9SIZYN",
        "outputId": "66cc16d2-a597-4dea-9bcb-5fd55f2bd690"
      },
      "execution_count": null,
      "outputs": [
        {
          "output_type": "stream",
          "name": "stdout",
          "text": [
            "False\n",
            "True\n"
          ]
        }
      ]
    },
    {
      "cell_type": "markdown",
      "source": [
        "`is`는 `id`를 기준으로 값을 찾는것,  \n",
        "`==`는 `값`을 기준으로 값을 찾는것이다."
      ],
      "metadata": {
        "id": "Xhv_8V93Iexa"
      }
    },
    {
      "cell_type": "code",
      "source": [
        "# 3.2 예시\n",
        "\n",
        "a = [1, 2, 3]\n",
        "b = [1, 2, 3]\n",
        "c = a  # a에 있는 것을 재할당"
      ],
      "metadata": {
        "id": "cnRd1yVlI9YZ"
      },
      "execution_count": null,
      "outputs": []
    },
    {
      "cell_type": "code",
      "source": [
        "print(a, b, c)"
      ],
      "metadata": {
        "colab": {
          "base_uri": "https://localhost:8080/"
        },
        "id": "gA6fICuRJK9f",
        "outputId": "5487932b-cbb1-4ff7-8f8b-335f70732524"
      },
      "execution_count": null,
      "outputs": [
        {
          "output_type": "stream",
          "name": "stdout",
          "text": [
            "[1, 2, 3] [1, 2, 3] [1, 2, 3]\n"
          ]
        }
      ]
    },
    {
      "cell_type": "code",
      "source": [
        "print('a == b', a == b)\n",
        "print('a == c', a == c)\n",
        "print('a is b', a is b)\n",
        "print('a is c', a is c)"
      ],
      "metadata": {
        "colab": {
          "base_uri": "https://localhost:8080/"
        },
        "id": "tBb-aJeFJL5Q",
        "outputId": "09f5a143-a87a-45a0-fcff-16d8e1879d55"
      },
      "execution_count": null,
      "outputs": [
        {
          "output_type": "stream",
          "name": "stdout",
          "text": [
            "a == b True\n",
            "a == c True\n",
            "a is b False\n",
            "a is c True\n"
          ]
        }
      ]
    },
    {
      "cell_type": "code",
      "source": [
        "print(id(a), id(b), id(c), sep=\" / \")\n",
        "# a와 c는 같은 id값, b는 다른 id값이 나온다."
      ],
      "metadata": {
        "colab": {
          "base_uri": "https://localhost:8080/"
        },
        "id": "NHZdLb4VJOCu",
        "outputId": "b81d78b5-0c2e-46ea-e684-4fe0dc9dbd71"
      },
      "execution_count": null,
      "outputs": [
        {
          "output_type": "stream",
          "name": "stdout",
          "text": [
            "134762050765888 / 134762052887168 / 134762050765888\n"
          ]
        }
      ]
    },
    {
      "cell_type": "markdown",
      "source": [
        "리스트와 같은 배열들은 문자열과는 다르게 생성할 때마다 새로운 주소에 담는다."
      ],
      "metadata": {
        "id": "rN3dR09aJcHL"
      }
    },
    {
      "cell_type": "markdown",
      "source": [
        "# 4. 멤버연산\n",
        "멤버 연산은 어떤 값이 목록 안에 있는지 확인해주는 기능입니다. `in`과 `not in` 두 가지 방법으로 확인할 수 있습니다.\n",
        "- in  \n",
        "값이 목록 안에 있으면 참`(True)`이에요.\n",
        "- not in  \n",
        "값이 목록 안에 없으면 참`(True)`이에요."
      ],
      "metadata": {
        "id": "qQQp9ciXJ4wR"
      }
    },
    {
      "cell_type": "code",
      "source": [
        "# 기본 예시\n",
        "\n",
        "a = [1, 2, 3, 4]\n",
        "b = [1, 2, 3, 4]\n",
        "c = 'hello world'\n",
        "\n",
        "print(1 in a) # 출력: True\n",
        "print(0 not in a) # 출력: True\n",
        "print([2] in b) # 출력: False"
      ],
      "metadata": {
        "colab": {
          "base_uri": "https://localhost:8080/"
        },
        "id": "et1OSfDuQBTn",
        "outputId": "4f8d026f-62b2-415f-d4be-f614cd772a03"
      },
      "execution_count": null,
      "outputs": [
        {
          "output_type": "stream",
          "name": "stdout",
          "text": [
            "True\n",
            "True\n",
            "False\n"
          ]
        }
      ]
    },
    {
      "cell_type": "code",
      "source": [
        "a_1 = [1, [2], 3, 4]\n",
        "# 리스트 안에 있는 값은 정수형 1, 3, 4 / 리스트형 [2]\n",
        "print([2] in a_1) # 출력: True"
      ],
      "metadata": {
        "colab": {
          "base_uri": "https://localhost:8080/"
        },
        "id": "xk3LKsCLQkqS",
        "outputId": "81af86e4-07ad-4b88-a766-5984f79917a9"
      },
      "execution_count": null,
      "outputs": [
        {
          "output_type": "stream",
          "name": "stdout",
          "text": [
            "True\n"
          ]
        }
      ]
    },
    {
      "cell_type": "markdown",
      "source": [
        "자료형태를 잘 파악해서 `in`을 사용해야 한다."
      ],
      "metadata": {
        "id": "TZFr0FvOQ1bX"
      }
    },
    {
      "cell_type": "code",
      "source": [
        "# 문자열은 '공백' 주의!\n",
        "print('hello' in c) # True\n",
        "print(' hello' in c) # False"
      ],
      "metadata": {
        "colab": {
          "base_uri": "https://localhost:8080/"
        },
        "id": "0JWUzWk3RMj6",
        "outputId": "af7d4de3-6811-409f-8cca-9af4dfa5101a"
      },
      "execution_count": null,
      "outputs": [
        {
          "output_type": "stream",
          "name": "stdout",
          "text": [
            "True\n",
            "False\n"
          ]
        }
      ]
    },
    {
      "cell_type": "code",
      "source": [
        "fruits = [\"귤\", \"딸기\", \"거봉\"]\n",
        "\n",
        "print(\"거봉\" in fruits)\n",
        "print(\"산딸기\" in fruits)"
      ],
      "metadata": {
        "colab": {
          "base_uri": "https://localhost:8080/"
        },
        "id": "kpjTQLXLPqCh",
        "outputId": "d84d4ef8-616f-4eff-f471-2b3963d1b12f"
      },
      "execution_count": null,
      "outputs": [
        {
          "output_type": "stream",
          "name": "stdout",
          "text": [
            "True\n",
            "False\n"
          ]
        }
      ]
    },
    {
      "cell_type": "markdown",
      "source": [
        "# 5. 연산자 우선순위"
      ],
      "metadata": {
        "id": "5-8xy8OKRp0R"
      }
    },
    {
      "cell_type": "code",
      "source": [
        "-2 ** 2 # 출력: -4, -(2 ** 2)"
      ],
      "metadata": {
        "colab": {
          "base_uri": "https://localhost:8080/"
        },
        "id": "bF_EauqsRrnq",
        "outputId": "ad36ef10-21bb-4eb1-dbf4-1299a6c8c766"
      },
      "execution_count": null,
      "outputs": [
        {
          "output_type": "execute_result",
          "data": {
            "text/plain": [
              "-4"
            ]
          },
          "metadata": {},
          "execution_count": 37
        }
      ]
    },
    {
      "cell_type": "code",
      "source": [
        "# 해결\n",
        "(-2) ** 2"
      ],
      "metadata": {
        "colab": {
          "base_uri": "https://localhost:8080/"
        },
        "id": "JOzf65wgSZPH",
        "outputId": "a4fbd7d6-3485-4466-80e4-3e15fa822e04"
      },
      "execution_count": null,
      "outputs": [
        {
          "output_type": "execute_result",
          "data": {
            "text/plain": [
              "4"
            ]
          },
          "metadata": {},
          "execution_count": 38
        }
      ]
    },
    {
      "cell_type": "code",
      "source": [
        "True * True and True + False\n",
        "# 출력: 1 , ((True * True) and (True + False))"
      ],
      "metadata": {
        "colab": {
          "base_uri": "https://localhost:8080/"
        },
        "id": "cyp-Oe35Scvd",
        "outputId": "5f211dbe-a670-46b0-ea32-324888e99290"
      },
      "execution_count": null,
      "outputs": [
        {
          "output_type": "execute_result",
          "data": {
            "text/plain": [
              "1"
            ]
          },
          "metadata": {},
          "execution_count": 39
        }
      ]
    },
    {
      "cell_type": "code",
      "source": [
        "# 복합 할당 연산자가 가장 나중입니다!\n",
        "a = 10\n",
        "a *= 10 + 100\n",
        "a # 출력: 1100"
      ],
      "metadata": {
        "colab": {
          "base_uri": "https://localhost:8080/"
        },
        "id": "XFq8oqhISi0K",
        "outputId": "386bb8a8-313e-4262-ff08-1d65dbb9ca29"
      },
      "execution_count": null,
      "outputs": [
        {
          "output_type": "execute_result",
          "data": {
            "text/plain": [
              "1100"
            ]
          },
          "metadata": {},
          "execution_count": 40
        }
      ]
    },
    {
      "cell_type": "markdown",
      "source": [
        "# 6. 연습문제"
      ],
      "metadata": {
        "id": "CRBImfmEWqtj"
      }
    },
    {
      "cell_type": "markdown",
      "source": [
        "## 1번\n",
        "실행값 예상\n",
        "```\n",
        "a = 100\n",
        "(a > 100) and (a < 200)\n",
        "(a > 100) or (a < 200)\n",
        "(a >= 100) and (a <= 200)\n",
        "(a >= 100) or (a <= 200)\n",
        "```"
      ],
      "metadata": {
        "id": "cqHZmjIrWtnG"
      }
    },
    {
      "cell_type": "code",
      "source": [
        "# False\n",
        "# True\n",
        "# True\n",
        "# True\n",
        "\n",
        "# 1번부터 차례대로\n",
        "# F and T, F or T, T and T, T or T 이기 때문이다."
      ],
      "metadata": {
        "id": "uKU4fEc6W3Xl"
      },
      "execution_count": null,
      "outputs": []
    },
    {
      "cell_type": "code",
      "source": [
        "# 확인\n",
        "a = 100\n",
        "print((a > 100) and (a < 200))\n",
        "print((a > 100) or (a < 200))\n",
        "print((a >= 100) and (a <= 200))\n",
        "print((a >= 100) or (a <= 200))"
      ],
      "metadata": {
        "colab": {
          "base_uri": "https://localhost:8080/"
        },
        "id": "rTvZexGaXSJy",
        "outputId": "ba4d53ee-b294-4616-bcbd-bb50cded3a4d"
      },
      "execution_count": null,
      "outputs": [
        {
          "output_type": "stream",
          "name": "stdout",
          "text": [
            "False\n",
            "True\n",
            "True\n",
            "True\n"
          ]
        }
      ]
    },
    {
      "cell_type": "markdown",
      "source": [
        "## 2번\n",
        "```\n",
        "b = 25\n",
        "(b % 2 == 0) and (b % 5 == 0)\n",
        "```"
      ],
      "metadata": {
        "id": "rwC2sM7XXbKx"
      }
    },
    {
      "cell_type": "code",
      "source": [
        "# (1 == 0) and (0 == 0)\n",
        "# False and True 이기 때문에\n",
        "# False"
      ],
      "metadata": {
        "id": "u8iAlSBDXj-d"
      },
      "execution_count": null,
      "outputs": []
    },
    {
      "cell_type": "code",
      "source": [
        "# 확인\n",
        "b = 25\n",
        "(b % 2 == 0) and (b % 5 == 0)"
      ],
      "metadata": {
        "colab": {
          "base_uri": "https://localhost:8080/"
        },
        "id": "A_L5PpElXw0A",
        "outputId": "e728a0e7-eb1f-47f1-9b80-79dc4efe70b6"
      },
      "execution_count": null,
      "outputs": [
        {
          "output_type": "execute_result",
          "data": {
            "text/plain": [
              "False"
            ]
          },
          "metadata": {},
          "execution_count": 55
        }
      ]
    },
    {
      "cell_type": "markdown",
      "source": [
        "## 3번\n",
        "변수 c 안에 들어있는 가격을 100원짜리 몇개로 거슬러 줄 수 있는지 출력해주세요.\n",
        "```\n",
        "c = 1000\n",
        "# 결과값은 10입니다.\n",
        "```"
      ],
      "metadata": {
        "id": "KsnYcZ7bXz-w"
      }
    },
    {
      "cell_type": "code",
      "source": [
        "c = 1000\n",
        "result = c // 100\n",
        "print(f\"결과값은 {result}입니다.\")"
      ],
      "metadata": {
        "colab": {
          "base_uri": "https://localhost:8080/"
        },
        "id": "zBZJXTsfX7Fr",
        "outputId": "7c059857-2071-407c-d10a-c265a10d7eb1"
      },
      "execution_count": null,
      "outputs": [
        {
          "output_type": "stream",
          "name": "stdout",
          "text": [
            "결과값은 10입니다.\n"
          ]
        }
      ]
    },
    {
      "cell_type": "markdown",
      "source": [
        "## 4번\n",
        "(심화문제) 입력한 금액을 5000원, 1000원, 500원, 100원으로 교환하는 프로그램을 만들어주세요.\n"
      ],
      "metadata": {
        "id": "vLJJZ3NnYGo9"
      }
    },
    {
      "cell_type": "code",
      "source": [
        "money = int(input(\"금액을 입력해주세요: \"))\n",
        "\n",
        "result_5000 = money // 5000\n",
        "money -= result_5000 * 5000\n",
        "\n",
        "result_1000 = money // 1000\n",
        "money -= result_1000 * 1000\n",
        "\n",
        "result_500 = money // 500\n",
        "money -= result_500 * 500\n",
        "\n",
        "result_100 = money // 100\n",
        "money -= result_100 * 100\n",
        "\n",
        "print(f\"5000원권 {result_5000}장,\\\n",
        " 1000원권 {result_1000}장,\\\n",
        " 500원 {result_500}개, 100원 {result_100}개입니다~\")\n"
      ],
      "metadata": {
        "colab": {
          "base_uri": "https://localhost:8080/"
        },
        "id": "_odTW4hAYLNT",
        "outputId": "71d6d392-9e80-439b-eb0e-3753b536dd11"
      },
      "execution_count": null,
      "outputs": [
        {
          "output_type": "stream",
          "name": "stdout",
          "text": [
            "금액을 입력해주세요: 6700\n",
            "5000원권 1장, 1000원권 1장, 500원 1개, 100원 2개입니다~\n"
          ]
        }
      ]
    },
    {
      "cell_type": "code",
      "source": [
        "# 1. 금액을 입력 받는다. or 금액에 대한 변수 필요\n",
        "# 2. 5000원부터 100원까지 거스름돈을 어떻게 줄지 생각해본다.\n",
        "# 3. 결론적으로 모든 거스름돈을 출력해서 -> (서비스) 캐셔 지폐교환기 -> 돈을 거슬러주면\n",
        "\n",
        "money = int(input(\"거스름돈을 출력하세요\"))"
      ],
      "metadata": {
        "colab": {
          "base_uri": "https://localhost:8080/"
        },
        "id": "RqPLmQhIeI0b",
        "outputId": "72b1ce2c-576e-4a8d-b067-35ed5107af7f"
      },
      "execution_count": null,
      "outputs": [
        {
          "name": "stdout",
          "output_type": "stream",
          "text": [
            "거스름돈을 출력하세요9980\n"
          ]
        }
      ]
    },
    {
      "cell_type": "code",
      "source": [
        "print(money)"
      ],
      "metadata": {
        "colab": {
          "base_uri": "https://localhost:8080/"
        },
        "id": "BysmG-2JeUo9",
        "outputId": "2163750d-c836-476b-b15b-e433bf678d3d"
      },
      "execution_count": null,
      "outputs": [
        {
          "output_type": "stream",
          "name": "stdout",
          "text": [
            "9980\n"
          ]
        }
      ]
    },
    {
      "cell_type": "code",
      "source": [
        "# 5000원 지폐 개수 계산!\n",
        "# 5000원으로 나눠서 나눗셈된 값(몫) -> 5000원권 얼마나 거슬러 줘야할까?\n",
        "\n",
        "num_5000 = money // 5000"
      ],
      "metadata": {
        "id": "eUuHuIyxeZGH"
      },
      "execution_count": null,
      "outputs": []
    },
    {
      "cell_type": "code",
      "source": [
        "print(num_5000)"
      ],
      "metadata": {
        "colab": {
          "base_uri": "https://localhost:8080/"
        },
        "id": "XWykhmOmeuo_",
        "outputId": "251dc3f4-2936-401c-8155-5089bdc1c12b"
      },
      "execution_count": null,
      "outputs": [
        {
          "output_type": "stream",
          "name": "stdout",
          "text": [
            "1\n"
          ]
        }
      ]
    },
    {
      "cell_type": "code",
      "source": [
        "money -= (num_5000 * 5000)"
      ],
      "metadata": {
        "id": "7VlJ3hTSe1lS"
      },
      "execution_count": null,
      "outputs": []
    },
    {
      "cell_type": "code",
      "source": [
        "print(money)"
      ],
      "metadata": {
        "colab": {
          "base_uri": "https://localhost:8080/"
        },
        "id": "MQ-Uh3ige9X_",
        "outputId": "451edd87-f8fa-419a-c30a-bf4401bfc1df"
      },
      "execution_count": null,
      "outputs": [
        {
          "output_type": "stream",
          "name": "stdout",
          "text": [
            "4980\n"
          ]
        }
      ]
    },
    {
      "cell_type": "code",
      "source": [
        "num_1000 = money // 1000\n",
        "money -= (num_1000 * 1000)"
      ],
      "metadata": {
        "id": "unvDpKd8fDED"
      },
      "execution_count": null,
      "outputs": []
    },
    {
      "cell_type": "code",
      "source": [
        "print(num_1000, money)"
      ],
      "metadata": {
        "colab": {
          "base_uri": "https://localhost:8080/"
        },
        "id": "kjQWpsVlfOp_",
        "outputId": "862f5a86-8281-4d4b-aedd-58729a795607"
      },
      "execution_count": null,
      "outputs": [
        {
          "output_type": "stream",
          "name": "stdout",
          "text": [
            "4 980\n"
          ]
        }
      ]
    },
    {
      "cell_type": "code",
      "source": [
        "num_500 = money // 500\n",
        "money -= (num_500 * 500)"
      ],
      "metadata": {
        "id": "b-JW6UZwfW-A"
      },
      "execution_count": null,
      "outputs": []
    },
    {
      "cell_type": "code",
      "source": [
        "print(num_500, money)"
      ],
      "metadata": {
        "colab": {
          "base_uri": "https://localhost:8080/"
        },
        "id": "socTAXCFfj4F",
        "outputId": "63033f1e-a642-4546-cf69-f0b3957cb412"
      },
      "execution_count": null,
      "outputs": [
        {
          "output_type": "stream",
          "name": "stdout",
          "text": [
            "1 480\n"
          ]
        }
      ]
    },
    {
      "cell_type": "code",
      "source": [
        "num_100 = money // 100\n",
        "money -= (num_100 * 100)\n",
        "print(num_100, money)"
      ],
      "metadata": {
        "colab": {
          "base_uri": "https://localhost:8080/"
        },
        "id": "h0-Cs-akfolH",
        "outputId": "d00f43ff-6b58-482c-9de8-6d861c30ab9c"
      },
      "execution_count": null,
      "outputs": [
        {
          "output_type": "stream",
          "name": "stdout",
          "text": [
            "4 80\n"
          ]
        }
      ]
    },
    {
      "cell_type": "code",
      "source": [
        "num_10 = money // 10\n",
        "money -= (num_10 * 10)\n",
        "print(num_10, money)"
      ],
      "metadata": {
        "colab": {
          "base_uri": "https://localhost:8080/"
        },
        "id": "7S03X7Yhf9xH",
        "outputId": "f1f8a798-5682-478c-c84e-c10feb34205c"
      },
      "execution_count": null,
      "outputs": [
        {
          "output_type": "stream",
          "name": "stdout",
          "text": [
            "8 0\n"
          ]
        }
      ]
    },
    {
      "cell_type": "code",
      "source": [
        "print(f\"5000원의 개수는 \",num_5000,\"개 입니다.\")        #9,980원\n",
        "print(f\"5000원의 개수는 {num_5000} 개 입니다.\")         #9,980원"
      ],
      "metadata": {
        "colab": {
          "base_uri": "https://localhost:8080/"
        },
        "id": "sINWU9yAgEY2",
        "outputId": "5c6a4bd2-8c13-4836-f025-77ff1268ac57"
      },
      "execution_count": null,
      "outputs": [
        {
          "output_type": "stream",
          "name": "stdout",
          "text": [
            "5000원의 개수는  1 개 입니다.\n",
            "5000원의 개수는 1 개 입니다.\n"
          ]
        }
      ]
    },
    {
      "cell_type": "markdown",
      "source": [
        "1. **사용자 입력 받기**:\n",
        "    * **input(**) 함수를 사용하여 제품의 원가와 할인율을 입력받습니다.\n",
        "2. **문자열을 숫자로 변환**:\n",
        "    * 입력받은 원가와 할인율을 각각 **float()** 함수를 사용하여 실수로 변환합니다.\n",
        "3. **할인된 가격 계산**:\n",
        "    * 할인된 가격을 계산하는 공식을 사용합니다. (할인된 가격 = 원가 - (원가 × 할인율 / 100))\n",
        "4. **결과 출력**:\n",
        "    * 계산된 할인된 가격을 **print()** 함수를 사용하여 출력합니다"
      ],
      "metadata": {
        "id": "iAnY7S2pgTCV"
      }
    },
    {
      "cell_type": "markdown",
      "source": [
        "문제 코딩을 하는것도 중요하지만,  \n",
        "`결과값을 사용자에게 어떤식으로 표현할것인가?` 도 중요한 부분이라 생각하신다 함."
      ],
      "metadata": {
        "id": "DivztUwVeMiV"
      }
    },
    {
      "cell_type": "markdown",
      "source": [
        "## 5번(실습 2)"
      ],
      "metadata": {
        "id": "OUnoGsn0gHS1"
      }
    },
    {
      "cell_type": "code",
      "source": [
        "# 제품의 원가와 할인율 입력 받기\n",
        "\n",
        "original_price = float(input(\"원가를 입력하세요: \"))\n",
        "discount_rate = float(input(\"할인율을 입력하세요: \"))"
      ],
      "metadata": {
        "colab": {
          "base_uri": "https://localhost:8080/"
        },
        "id": "z3NvmyNee4GI",
        "outputId": "d34214eb-9478-48c0-ca96-b89c5b373bb4"
      },
      "execution_count": null,
      "outputs": [
        {
          "name": "stdout",
          "output_type": "stream",
          "text": [
            "원가를 입력하세요: 20000\n",
            "할인율을 입력하세요: 10\n"
          ]
        }
      ]
    },
    {
      "cell_type": "code",
      "source": [
        "# 할인된 가격 계산\n",
        "discounted_price = original_price - \\\n",
        "(original_price * discount_rate / 100)"
      ],
      "metadata": {
        "id": "fgEnadvrfEiE"
      },
      "execution_count": null,
      "outputs": []
    },
    {
      "cell_type": "code",
      "source": [
        "# 결과 출력\n",
        "print(f\"할인된 가격은 {int(discounted_price)}원 입니다.\")"
      ],
      "metadata": {
        "colab": {
          "base_uri": "https://localhost:8080/"
        },
        "id": "jmqaqfTefzLJ",
        "outputId": "76b4c22d-8850-4d30-9a3d-8051ebe3eb4b"
      },
      "execution_count": null,
      "outputs": [
        {
          "output_type": "stream",
          "name": "stdout",
          "text": [
            "할인된 가격은 18000원 입니다.\n"
          ]
        }
      ]
    },
    {
      "cell_type": "markdown",
      "source": [
        "## 7번(실습 3)\n",
        "1. 사용자 입력 받기:\n",
        "input() 함수를 사용하여 사용자의 이름과 나이를 입력받습니다.  \n",
        "2. 문자열을 숫자로 변환:\n",
        "입력받은 나이(문자열)를 int() 함수를 사용하여 정수로 변환합니다.  \n",
        "3. 산술 연산 수행:\n",
        "변환된 나이에 1을 더하여 다음 해의 나이를 계산합니다.  \n",
        "4. 문자열 길이 계산:\n",
        "len() 함수를 사용하여 사용자 이름의 길이를 계산합니다.  \n",
        "5. 성인 여부 판단:\n",
        "나이를 기준으로 성인 여부를 판단하여 불리언 값으로 표시합니다. (예: 18세 이상이면 True, 그렇지 않으면 False)  \n",
        "6. 결과 출력:\n",
        "계산된 나이, 이름의 길이, 성인 여부를 print() 함수를 사용하여 출력합니다."
      ],
      "metadata": {
        "id": "9JsoWRbRgwoD"
      }
    },
    {
      "cell_type": "code",
      "source": [
        "# 1,2단계\n",
        "name = input(\"이름을 입력하세요: \")\n",
        "age = int(input(\"나이를 입력하세요: \"))"
      ],
      "metadata": {
        "colab": {
          "base_uri": "https://localhost:8080/"
        },
        "id": "fGC-cIfWhDK3",
        "outputId": "3a41cb44-796e-4440-fec8-391a8bf0f09f"
      },
      "execution_count": null,
      "outputs": [
        {
          "name": "stdout",
          "output_type": "stream",
          "text": [
            "이름을 입력하세요: 남궁 꺽정\n",
            "나이를 입력하세요: 5\n"
          ]
        }
      ]
    },
    {
      "cell_type": "code",
      "source": [
        "# 3, 4, 5단계\n",
        "age += 1\n",
        "name_len = len(name.replace(\" \", \"\")) # 이름 공백 제거해줌\n",
        "adult = bool(age >= 18)"
      ],
      "metadata": {
        "id": "c1z8zkXhhQwU"
      },
      "execution_count": null,
      "outputs": []
    },
    {
      "cell_type": "code",
      "source": [
        "# 6단계 출력\n",
        "print(f\"나이는 {age}살, 이름은 {name_len}자,\\\n",
        " 성인 여부는 {adult}입니다.\")"
      ],
      "metadata": {
        "colab": {
          "base_uri": "https://localhost:8080/"
        },
        "id": "snY7oUXphjjN",
        "outputId": "7ce3e71d-b90d-48a8-f28d-f47310776274"
      },
      "execution_count": null,
      "outputs": [
        {
          "output_type": "stream",
          "name": "stdout",
          "text": [
            "나이는 6살, 이름은 4자, 성인 여부는 False입니다.\n"
          ]
        }
      ]
    },
    {
      "cell_type": "markdown",
      "source": [
        "# 개인 test"
      ],
      "metadata": {
        "id": "-IhMkhPMTLW_"
      }
    },
    {
      "cell_type": "code",
      "source": [
        "# 계산식으로 표현된 정수형 값도 동일값으로 처리되는지\n",
        "\n",
        "test1 = [1, 2, 3]\n",
        "print((1+2) in test1)"
      ],
      "metadata": {
        "colab": {
          "base_uri": "https://localhost:8080/"
        },
        "id": "xj6IUuD3Sq5B",
        "outputId": "fd844350-07b6-4dad-d623-7126f1b9d5ff"
      },
      "execution_count": null,
      "outputs": [
        {
          "output_type": "stream",
          "name": "stdout",
          "text": [
            "True\n"
          ]
        }
      ]
    },
    {
      "cell_type": "code",
      "source": [
        "# 리스트를 재할당했을때 id값이 같다고 판단되는지\n",
        "\n",
        "test2 = test1\n",
        "print(test2[0] is test1[0])\n",
        "print(id(test2[0]), id(test1[0]))"
      ],
      "metadata": {
        "colab": {
          "base_uri": "https://localhost:8080/"
        },
        "id": "PblCaWFFSz-4",
        "outputId": "0735002b-a34a-4c76-c6e9-af72b3b7f7a2"
      },
      "execution_count": null,
      "outputs": [
        {
          "output_type": "stream",
          "name": "stdout",
          "text": [
            "True\n",
            "134762430660848 134762430660848\n"
          ]
        }
      ]
    }
  ]
}