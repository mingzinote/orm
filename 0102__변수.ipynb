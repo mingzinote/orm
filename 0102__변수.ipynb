{
  "nbformat": 4,
  "nbformat_minor": 0,
  "metadata": {
    "colab": {
      "provenance": [],
      "include_colab_link": true
    },
    "kernelspec": {
      "name": "python3",
      "display_name": "Python 3"
    },
    "language_info": {
      "name": "python"
    }
  },
  "cells": [
    {
      "cell_type": "markdown",
      "metadata": {
        "id": "view-in-github",
        "colab_type": "text"
      },
      "source": [
        "<a href=\"https://colab.research.google.com/github/mingzinote/orm/blob/main/0102__%EB%B3%80%EC%88%98.ipynb\" target=\"_parent\"><img src=\"https://colab.research.google.com/assets/colab-badge.svg\" alt=\"Open In Colab\"/></a>"
      ]
    },
    {
      "cell_type": "code",
      "execution_count": null,
      "metadata": {
        "colab": {
          "base_uri": "https://localhost:8080/"
        },
        "id": "-zSOK5O3Mp6A",
        "outputId": "cdea2656-f697-4d4d-bb78-55915e12948d"
      },
      "outputs": [
        {
          "output_type": "stream",
          "name": "stdout",
          "text": [
            "<class 'int'>\n",
            "['__abs__', '__add__', '__and__', '__bool__', '__ceil__', '__class__', '__delattr__', '__dir__', '__divmod__', '__doc__', '__eq__', '__float__', '__floor__', '__floordiv__', '__format__', '__ge__', '__getattribute__', '__getnewargs__', '__gt__', '__hash__', '__index__', '__init__', '__init_subclass__', '__int__', '__invert__', '__le__', '__lshift__', '__lt__', '__mod__', '__mul__', '__ne__', '__neg__', '__new__', '__or__', '__pos__', '__pow__', '__radd__', '__rand__', '__rdivmod__', '__reduce__', '__reduce_ex__', '__repr__', '__rfloordiv__', '__rlshift__', '__rmod__', '__rmul__', '__ror__', '__round__', '__rpow__', '__rrshift__', '__rshift__', '__rsub__', '__rtruediv__', '__rxor__', '__setattr__', '__sizeof__', '__str__', '__sub__', '__subclasshook__', '__truediv__', '__trunc__', '__xor__', 'as_integer_ratio', 'bit_count', 'bit_length', 'conjugate', 'denominator', 'from_bytes', 'imag', 'numerator', 'real', 'to_bytes']\n"
          ]
        }
      ],
      "source": [
        "# 변수의 속성 확인\n",
        "\n",
        "x = \"10\"\n",
        "print(type(x))\n",
        "print(dir(x))l = [1, 2, '3hello', 4, 5, 'l6l']\n",
        "sum(map(int, 1))"
      ]
    },
    {
      "cell_type": "code",
      "source": [
        "x = 10\n",
        "print(type(x))\n",
        "print(dir(x))"
      ],
      "metadata": {
        "colab": {
          "base_uri": "https://localhost:8080/"
        },
        "id": "XIJ0giLLmxIx",
        "outputId": "43645798-2f86-4e97-97f9-df47c49463f3"
      },
      "execution_count": null,
      "outputs": [
        {
          "output_type": "stream",
          "name": "stdout",
          "text": [
            "<class 'str'>\n",
            "['__add__', '__class__', '__contains__', '__delattr__', '__dir__', '__doc__', '__eq__', '__format__', '__ge__', '__getattribute__', '__getitem__', '__getnewargs__', '__gt__', '__hash__', '__init__', '__init_subclass__', '__iter__', '__le__', '__len__', '__lt__', '__mod__', '__mul__', '__ne__', '__new__', '__reduce__', '__reduce_ex__', '__repr__', '__rmod__', '__rmul__', '__setattr__', '__sizeof__', '__str__', '__subclasshook__', 'capitalize', 'casefold', 'center', 'count', 'encode', 'endswith', 'expandtabs', 'find', 'format', 'format_map', 'index', 'isalnum', 'isalpha', 'isascii', 'isdecimal', 'isdigit', 'isidentifier', 'islower', 'isnumeric', 'isprintable', 'isspace', 'istitle', 'isupper', 'join', 'ljust', 'lower', 'lstrip', 'maketrans', 'partition', 'removeprefix', 'removesuffix', 'replace', 'rfind', 'rindex', 'rjust', 'rpartition', 'rsplit', 'rstrip', 'split', 'splitlines', 'startswith', 'strip', 'swapcase', 'title', 'translate', 'upper', 'zfill']\n"
          ]
        }
      ]
    },
    {
      "cell_type": "code",
      "source": [
        "# 변수 재할당\n",
        "x = 10\n",
        "print(x)\n",
        "\n",
        "x = 20\n",
        "print(x)"
      ],
      "metadata": {
        "colab": {
          "base_uri": "https://localhost:8080/"
        },
        "id": "nGb52bOYFNFh",
        "outputId": "affb761b-4a50-4b84-f4e5-e3c8e9d11c38"
      },
      "execution_count": 1,
      "outputs": [
        {
          "output_type": "stream",
          "name": "stdout",
          "text": [
            "10\n",
            "20\n"
          ]
        }
      ]
    },
    {
      "cell_type": "code",
      "source": [
        "# 변수 삭제\n",
        "\n",
        "x = 10\n",
        "print(x)"
      ],
      "metadata": {
        "colab": {
          "base_uri": "https://localhost:8080/"
        },
        "id": "xkp2ThXjnCT4",
        "outputId": "243f197f-d5c6-4c35-fb86-1dad7adecf34"
      },
      "execution_count": null,
      "outputs": [
        {
          "output_type": "stream",
          "name": "stdout",
          "text": [
            "10\n"
          ]
        }
      ]
    },
    {
      "cell_type": "code",
      "source": [
        "del x"
      ],
      "metadata": {
        "id": "Gy3V3LbioXud"
      },
      "execution_count": null,
      "outputs": []
    },
    {
      "cell_type": "code",
      "source": [
        "print(x)  # 변수 x를 삭제했기 때문에 오류 발생."
      ],
      "metadata": {
        "colab": {
          "base_uri": "https://localhost:8080/",
          "height": 178
        },
        "id": "oaFkrLwVoYed",
        "outputId": "cadf8285-ee3c-40a6-9c01-4e3e58db7b48"
      },
      "execution_count": null,
      "outputs": [
        {
          "output_type": "error",
          "ename": "NameError",
          "evalue": "ignored",
          "traceback": [
            "\u001b[0;31m---------------------------------------------------------------------------\u001b[0m",
            "\u001b[0;31mNameError\u001b[0m                                 Traceback (most recent call last)",
            "\u001b[0;32m<ipython-input-6-fc17d851ef81>\u001b[0m in \u001b[0;36m<cell line: 1>\u001b[0;34m()\u001b[0m\n\u001b[0;32m----> 1\u001b[0;31m \u001b[0mprint\u001b[0m\u001b[0;34m(\u001b[0m\u001b[0mx\u001b[0m\u001b[0;34m)\u001b[0m\u001b[0;34m\u001b[0m\u001b[0;34m\u001b[0m\u001b[0m\n\u001b[0m",
            "\u001b[0;31mNameError\u001b[0m: name 'x' is not defined"
          ]
        }
      ]
    },
    {
      "cell_type": "markdown",
      "source": [
        "## 1. 정수(int)"
      ],
      "metadata": {
        "id": "4i60qROd_BEx"
      }
    },
    {
      "cell_type": "code",
      "source": [
        "# 나눗셈 예제\n",
        "# 나눗셈은 부동소수점으로 변환이 됨 -> int\n",
        "\n",
        "x = 10\n",
        "y = 5\n",
        "print(x / y)\n",
        "print(int(x / y))"
      ],
      "metadata": {
        "colab": {
          "base_uri": "https://localhost:8080/"
        },
        "id": "yWN0aVCNoZom",
        "outputId": "8b4a9b80-9ead-4443-dd34-17b34805773b"
      },
      "execution_count": null,
      "outputs": [
        {
          "output_type": "stream",
          "name": "stdout",
          "text": [
            "2.0\n",
            "2\n"
          ]
        }
      ]
    },
    {
      "cell_type": "markdown",
      "source": [
        "### 파이썬은 **-5부터 256**까지는 ID값이 같다. 파이썬만의 고유한 특징."
      ],
      "metadata": {
        "id": "FyxJR2vL0tmy"
      }
    },
    {
      "cell_type": "code",
      "source": [
        "# id(x), id(y)에 대해서\n",
        "\n",
        "x = 256\n",
        "y = 256\n",
        "\n",
        "print(x, y)"
      ],
      "metadata": {
        "colab": {
          "base_uri": "https://localhost:8080/"
        },
        "id": "W5iIkClYuRUY",
        "outputId": "f3d7879f-211d-44d0-990b-29bd73f80ac3"
      },
      "execution_count": null,
      "outputs": [
        {
          "output_type": "stream",
          "name": "stdout",
          "text": [
            "256 256\n"
          ]
        }
      ]
    },
    {
      "cell_type": "code",
      "source": [
        "print(x == y)\n",
        "print(x is y)"
      ],
      "metadata": {
        "colab": {
          "base_uri": "https://localhost:8080/"
        },
        "id": "RvW2mEtm0BgZ",
        "outputId": "b62aa659-9a7f-42b4-bf0e-08bee78a6222"
      },
      "execution_count": null,
      "outputs": [
        {
          "output_type": "stream",
          "name": "stdout",
          "text": [
            "True\n",
            "True\n"
          ]
        }
      ]
    },
    {
      "cell_type": "code",
      "source": [
        "print(id(x), id(y))"
      ],
      "metadata": {
        "colab": {
          "base_uri": "https://localhost:8080/"
        },
        "id": "CSqY3rmJ0GUj",
        "outputId": "2d603de9-6bf8-4c9b-dbe4-d2c50687dc3b"
      },
      "execution_count": null,
      "outputs": [
        {
          "output_type": "stream",
          "name": "stdout",
          "text": [
            "135613333577936 135613333577936\n"
          ]
        }
      ]
    },
    {
      "cell_type": "code",
      "source": [
        "a = 2000\n",
        "b = 2000\n",
        "print(a is b)\n",
        "print(id(a), id(b))"
      ],
      "metadata": {
        "colab": {
          "base_uri": "https://localhost:8080/"
        },
        "id": "LdWmN63J0NYL",
        "outputId": "804c1078-7f2d-4e71-a3ac-02caacdef3cf"
      },
      "execution_count": null,
      "outputs": [
        {
          "output_type": "stream",
          "name": "stdout",
          "text": [
            "False\n",
            "135612066015344 135612066016176\n"
          ]
        }
      ]
    },
    {
      "cell_type": "code",
      "source": [
        "x = 257\n",
        "y = 257\n",
        "\n",
        "print(x == y)\n",
        "print(x is y)       # id가 다르기 때문에 False\n",
        "print(id(x), id(y))"
      ],
      "metadata": {
        "colab": {
          "base_uri": "https://localhost:8080/"
        },
        "id": "fNkUiuLY0bEk",
        "outputId": "0ff33b1f-1f0d-4b47-a397-008df6807f7d"
      },
      "execution_count": null,
      "outputs": [
        {
          "output_type": "stream",
          "name": "stdout",
          "text": [
            "True\n",
            "False\n",
            "135612066015760 135612066012880\n"
          ]
        }
      ]
    },
    {
      "cell_type": "markdown",
      "source": [
        "---"
      ],
      "metadata": {
        "id": "BkH4Ie9I2LwK"
      }
    },
    {
      "cell_type": "code",
      "source": [
        "x = 5               # 이것도 가능\n",
        "x = int(5)          # 이것도 가능하지만 불필요하다"
      ],
      "metadata": {
        "id": "ztywIr9c2OlT"
      },
      "execution_count": null,
      "outputs": []
    },
    {
      "cell_type": "markdown",
      "source": [
        "## 2. 실수(float)"
      ],
      "metadata": {
        "id": "dxKjP1xk_JFM"
      }
    },
    {
      "cell_type": "code",
      "source": [
        "# 무한대\n",
        "\n",
        "x_inf = float(\"inf\")\n",
        "print(x_inf > 10)"
      ],
      "metadata": {
        "colab": {
          "base_uri": "https://localhost:8080/"
        },
        "id": "W2V8Hwre3dvI",
        "outputId": "0c3386c7-523c-4c31-ff09-f8992f4048f8"
      },
      "execution_count": null,
      "outputs": [
        {
          "output_type": "stream",
          "name": "stdout",
          "text": [
            "True\n"
          ]
        }
      ]
    },
    {
      "cell_type": "code",
      "source": [
        "# 부동소수점의 문제!\n",
        "\n",
        "x_test = 10.1\n",
        "y_test = 10.2\n",
        "print(x_test + y_test)"
      ],
      "metadata": {
        "colab": {
          "base_uri": "https://localhost:8080/"
        },
        "id": "8j2_hv5S3zu4",
        "outputId": "c30cd712-fdbe-4bcb-92d3-41122a702712"
      },
      "execution_count": null,
      "outputs": [
        {
          "output_type": "stream",
          "name": "stdout",
          "text": [
            "20.299999999999997\n"
          ]
        }
      ]
    },
    {
      "cell_type": "code",
      "source": [
        "x_test1 = 0.1\n",
        "y_test1 = 0.2\n",
        "print(x_test1 + y_test1)"
      ],
      "metadata": {
        "colab": {
          "base_uri": "https://localhost:8080/"
        },
        "id": "6BJuVwy438vt",
        "outputId": "cb9c0a19-f1f8-44b7-9ef4-d2611e9a01f7"
      },
      "execution_count": null,
      "outputs": [
        {
          "output_type": "stream",
          "name": "stdout",
          "text": [
            "0.30000000000000004\n"
          ]
        }
      ]
    },
    {
      "cell_type": "code",
      "source": [
        "# decimal 라이브러리 호출해서 사용하면 가능\n",
        "import decimal\n",
        "\n",
        "float(decimal.Decimal('.1') + decimal.Decimal('.2'))        # 출력: 0.3"
      ],
      "metadata": {
        "colab": {
          "base_uri": "https://localhost:8080/"
        },
        "id": "wpsZREuZ4T01",
        "outputId": "23727992-13a1-4a88-c957-c8f589b4d316"
      },
      "execution_count": null,
      "outputs": [
        {
          "output_type": "execute_result",
          "data": {
            "text/plain": [
              "0.3"
            ]
          },
          "metadata": {},
          "execution_count": 25
        }
      ]
    },
    {
      "cell_type": "code",
      "source": [
        "# 제곱형태\n",
        "\n",
        "print(2e3)        # 지수표현, float형\n",
        "print(2E3)\n",
        "\n",
        "2 * (10 ** 3)     # int 형"
      ],
      "metadata": {
        "colab": {
          "base_uri": "https://localhost:8080/"
        },
        "id": "B3_oOc1g45D7",
        "outputId": "af96e5c5-7f7d-4eb7-dccd-0cc400e1e33d"
      },
      "execution_count": null,
      "outputs": [
        {
          "output_type": "stream",
          "name": "stdout",
          "text": [
            "2000.0\n",
            "2000.0\n"
          ]
        },
        {
          "output_type": "execute_result",
          "data": {
            "text/plain": [
              "2000"
            ]
          },
          "metadata": {},
          "execution_count": 26
        }
      ]
    },
    {
      "cell_type": "markdown",
      "source": [
        "## 3. 복소수(complex)"
      ],
      "metadata": {
        "id": "i-TR-j8D_OAa"
      }
    },
    {
      "cell_type": "code",
      "source": [
        "# 복소수 출력\n",
        "\n",
        "x1 = 3 + 4j\n",
        "x2 = complex(3, 4)\n",
        "\n",
        "print(x1, x2)\n",
        "print(type(x1), type(x2))"
      ],
      "metadata": {
        "colab": {
          "base_uri": "https://localhost:8080/"
        },
        "id": "eUjwcfLw5cN_",
        "outputId": "efd36015-fe05-47f5-dc0b-3045d41b0d24"
      },
      "execution_count": null,
      "outputs": [
        {
          "output_type": "stream",
          "name": "stdout",
          "text": [
            "(3+4j) (3+4j)\n",
            "<class 'complex'> <class 'complex'>\n"
          ]
        }
      ]
    },
    {
      "cell_type": "code",
      "source": [
        "# 복소수의 실수부분 출력\n",
        "\n",
        "x = 3 + 4j\n",
        "print(x.real)        # 출력: 3.0"
      ],
      "metadata": {
        "colab": {
          "base_uri": "https://localhost:8080/"
        },
        "id": "aXf3OK1R6iD1",
        "outputId": "700e319d-881b-4294-e2b1-5c3eb2f1cc67"
      },
      "execution_count": null,
      "outputs": [
        {
          "output_type": "stream",
          "name": "stdout",
          "text": [
            "3.0\n"
          ]
        }
      ]
    },
    {
      "cell_type": "code",
      "source": [
        "# 복소수의 허수부분 출력\n",
        "\n",
        "x = 3 + 4j\n",
        "print(x.imag)        # 출력: 4.0"
      ],
      "metadata": {
        "colab": {
          "base_uri": "https://localhost:8080/"
        },
        "id": "IAR4dUSj6oV6",
        "outputId": "260c1f01-b2d1-4d36-8818-a02ad05ea5df"
      },
      "execution_count": null,
      "outputs": [
        {
          "output_type": "stream",
          "name": "stdout",
          "text": [
            "4.0\n"
          ]
        }
      ]
    }
  ]
}