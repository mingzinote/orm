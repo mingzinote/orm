{
  "nbformat": 4,
  "nbformat_minor": 0,
  "metadata": {
    "colab": {
      "provenance": [],
      "authorship_tag": "ABX9TyOZE3E5XdFZnJUiXWQmj0dR",
      "include_colab_link": true
    },
    "kernelspec": {
      "name": "python3",
      "display_name": "Python 3"
    },
    "language_info": {
      "name": "python"
    }
  },
  "cells": [
    {
      "cell_type": "markdown",
      "metadata": {
        "id": "view-in-github",
        "colab_type": "text"
      },
      "source": [
        "<a href=\"https://colab.research.google.com/github/mingzinote/orm/blob/main/0104__%EC%8B%9C%ED%80%80%EC%8A%A4%EC%9E%90%EB%A3%8C%ED%98%95.ipynb\" target=\"_parent\"><img src=\"https://colab.research.google.com/assets/colab-badge.svg\" alt=\"Open In Colab\"/></a>"
      ]
    },
    {
      "cell_type": "markdown",
      "source": [
        "# 1. 시퀀스 자료형\n",
        "* example::: 예"
      ],
      "metadata": {
        "id": "Q4RM-qAa_T0_"
      }
    },
    {
      "cell_type": "code",
      "source": [
        "# 1.1 인덱싱\n",
        "#01234\n",
        "#    (-) 54321\n",
        "example = 'abcde'\n",
        "print(example[0])          # 출력: a\n",
        "print(example[2])          # 출력: c\n",
        "print(example[-1])         # 출력: e"
      ],
      "metadata": {
        "colab": {
          "base_uri": "https://localhost:8080/"
        },
        "id": "1M4l4utI_j9U",
        "outputId": "07f07572-a14d-4ab1-eccd-8b44427cb600"
      },
      "execution_count": null,
      "outputs": [
        {
          "output_type": "stream",
          "name": "stdout",
          "text": [
            "a\n",
            "c\n",
            "e\n"
          ]
        }
      ]
    },
    {
      "cell_type": "code",
      "source": [
        "# 1.2 슬라이싱\n",
        "\n",
        "example = 'abcde'\n",
        "print(example[1:3])        # 출력: bc\n",
        "print(example[-4:-2])                                 #>>> 몰라 ㅜㅜ\n",
        "print(range(10)[3])        # 출력: 3                      #>>> 몰라 ㅜㅜ\n",
        "print(range(100)[::5])     # 출력: range(0, 100, 5)       #>>> 몰라 ㅜㅜ"
      ],
      "metadata": {
        "colab": {
          "base_uri": "https://localhost:8080/"
        },
        "id": "YptG9YdDAY8B",
        "outputId": "54f4c9e6-0e14-4dd0-9642-37debc5bee4b"
      },
      "execution_count": null,
      "outputs": [
        {
          "output_type": "stream",
          "name": "stdout",
          "text": [
            "bc\n",
            "bc\n",
            "3\n",
            "range(0, 100, 5)\n"
          ]
        }
      ]
    },
    {
      "cell_type": "code",
      "source": [
        "# 1.3 특정항목 포함 여부\n",
        "\n",
        "example = 'abcde'\n",
        "print('a' in example)      # 출력: True\n",
        "print('z' in example)      # 출력: False"
      ],
      "metadata": {
        "id": "hzL5a69XB5Vd"
      },
      "execution_count": null,
      "outputs": []
    },
    {
      "cell_type": "code",
      "source": [
        "# 1.4 연결 & 반복\n",
        "\n",
        "example1 = 'abcde'\n",
        "example2 = 'f'\n",
        "print(example1 + example2) # 출력: abcdef\n",
        "print(example2 * 3)        # 출력: fff"
      ],
      "metadata": {
        "colab": {
          "base_uri": "https://localhost:8080/"
        },
        "id": "4K-EWT19CnDY",
        "outputId": "fcd69cf2-a8e2-4b1e-94be-2420effee878"
      },
      "execution_count": null,
      "outputs": [
        {
          "output_type": "stream",
          "name": "stdout",
          "text": [
            "abcdef\n",
            "fff\n"
          ]
        }
      ]
    },
    {
      "cell_type": "code",
      "source": [
        "# 내장함수를 사용!\n",
        "\n",
        "example = 'abcde'\n",
        "print(len(example))        # 출력: 5\n",
        "print(min(example))        # 출력: a\n",
        "print(max(example))        # 출력: e"
      ],
      "metadata": {
        "colab": {
          "base_uri": "https://localhost:8080/"
        },
        "id": "oOEOEccaDU8W",
        "outputId": "4559b89f-3d7f-484a-c262-404701bf7f65"
      },
      "execution_count": null,
      "outputs": [
        {
          "output_type": "stream",
          "name": "stdout",
          "text": [
            "5\n",
            "a\n",
            "e\n"
          ]
        }
      ]
    },
    {
      "cell_type": "markdown",
      "source": [
        "# 2. 패킹과 언패킹\n",
        "* **중요한 부분**이지만 헷갈리기 때문에 잘! 봐두자."
      ],
      "metadata": {
        "id": "mWFlB_JzF3Hx"
      }
    },
    {
      "cell_type": "code",
      "source": [
        "# 2.1 튜플 패킹\n",
        "\n",
        "packed_tuple = 1, 2, 3, 4\n",
        "print(packed_tuple)        # 출력: (1, 2, 3, 4)\n",
        "type(packed_tuple)"
      ],
      "metadata": {
        "colab": {
          "base_uri": "https://localhost:8080/"
        },
        "id": "OH_SuV6UF1wz",
        "outputId": "8ca1d075-4529-4383-dbda-fc0139025009"
      },
      "execution_count": null,
      "outputs": [
        {
          "output_type": "stream",
          "name": "stdout",
          "text": [
            "(1, 2, 3, 4)\n"
          ]
        },
        {
          "output_type": "execute_result",
          "data": {
            "text/plain": [
              "tuple"
            ]
          },
          "metadata": {},
          "execution_count": 7
        }
      ]
    },
    {
      "cell_type": "code",
      "source": [
        "# 2.2 언패킹\n",
        "\n",
        "# 튜플 패킹\n",
        "packed_tuple = 1, 2, 3, 4\n",
        "print(packed_tuple)\n",
        "\n",
        "# 튜플 언패킹\n",
        "a, b, c, d = packed_tuple\n",
        "print(a)                    # 출력: 1\n",
        "print(b)                    # 출력: 2"
      ],
      "metadata": {
        "colab": {
          "base_uri": "https://localhost:8080/"
        },
        "id": "kMg6TwPNGyCi",
        "outputId": "1f27d5b4-accc-413e-d705-30c682be8682"
      },
      "execution_count": null,
      "outputs": [
        {
          "output_type": "stream",
          "name": "stdout",
          "text": [
            "(1, 2, 3, 4)\n",
            "1\n",
            "2\n"
          ]
        }
      ]
    },
    {
      "cell_type": "code",
      "source": [
        "# 다양한 패킹 / 언패킹\n",
        "# range는 0부터 n-1까지 숫자를 생성하는 함수\n",
        "\n",
        "a, b, c = range(3)\n",
        "print(range(3))\n",
        "print(a, b, c)"
      ],
      "metadata": {
        "colab": {
          "base_uri": "https://localhost:8080/"
        },
        "id": "Bfzs_5pvHXw4",
        "outputId": "45fbbb2b-64ba-44e8-8c19-518625a76868"
      },
      "execution_count": null,
      "outputs": [
        {
          "output_type": "stream",
          "name": "stdout",
          "text": [
            "range(0, 3)\n",
            "0 1 2\n"
          ]
        }
      ]
    },
    {
      "cell_type": "code",
      "source": [
        "a, b, c, d, e = 'hello'\n",
        "print(a, b, c, d, e)"
      ],
      "metadata": {
        "colab": {
          "base_uri": "https://localhost:8080/"
        },
        "id": "160hcmg-H6lI",
        "outputId": "8bbba6d4-6bc4-463c-ed6c-501656306659"
      },
      "execution_count": null,
      "outputs": [
        {
          "output_type": "stream",
          "name": "stdout",
          "text": [
            "h e l l o\n"
          ]
        }
      ]
    },
    {
      "cell_type": "code",
      "source": [
        "a, b = [10, 20]\n",
        "print(a, b)\n",
        "print(a + b)"
      ],
      "metadata": {
        "colab": {
          "base_uri": "https://localhost:8080/"
        },
        "id": "8t7cDII-IDvT",
        "outputId": "22191f88-acbf-4f4f-d7f6-86570e2b4a59"
      },
      "execution_count": null,
      "outputs": [
        {
          "output_type": "stream",
          "name": "stdout",
          "text": [
            "10 20\n",
            "30\n"
          ]
        }
      ]
    },
    {
      "cell_type": "markdown",
      "source": [
        "* 언패킹은 시퀀스 자료형이라면 다 활용할 수 있다!"
      ],
      "metadata": {
        "id": "QfE8j5GIIRjp"
      }
    },
    {
      "cell_type": "code",
      "source": [
        "total_sum = 0\n",
        "\n",
        "for i in range(5):\n",
        "    total_sum += i\n",
        "    print(total_sum)\n",
        "\n",
        "print(total_sum)"
      ],
      "metadata": {
        "colab": {
          "base_uri": "https://localhost:8080/"
        },
        "id": "x1unIRgFIXJM",
        "outputId": "6e797c5b-8471-4107-b67c-6bc60071acf8"
      },
      "execution_count": null,
      "outputs": [
        {
          "output_type": "stream",
          "name": "stdout",
          "text": [
            "0\n",
            "1\n",
            "3\n",
            "6\n",
            "10\n",
            "10\n"
          ]
        }
      ]
    },
    {
      "cell_type": "code",
      "source": [
        "# 별표 * 이용한 언패킹\n",
        "\n",
        "first, *middle, last = [1, 2, 3, 4, 5]\n",
        "\n",
        "print(first)\n",
        "print(middle)\n",
        "print(last)"
      ],
      "metadata": {
        "colab": {
          "base_uri": "https://localhost:8080/"
        },
        "id": "krxaLPr2JSQB",
        "outputId": "32d405d3-5aaf-478f-adef-bb966e9191e2"
      },
      "execution_count": null,
      "outputs": [
        {
          "output_type": "stream",
          "name": "stdout",
          "text": [
            "1\n",
            "[2, 3, 4]\n",
            "5\n"
          ]
        }
      ]
    },
    {
      "cell_type": "code",
      "source": [
        "first, *middle = [1, 2, 3, 4, 5]\n",
        "\n",
        "print(first)\n",
        "print(middle)"
      ],
      "metadata": {
        "colab": {
          "base_uri": "https://localhost:8080/"
        },
        "id": "gH758HXwJ5qd",
        "outputId": "d60773a0-2601-48a7-fac2-c777e3d5f4f0"
      },
      "execution_count": null,
      "outputs": [
        {
          "output_type": "stream",
          "name": "stdout",
          "text": [
            "1\n",
            "[2, 3, 4, 5]\n"
          ]
        }
      ]
    },
    {
      "cell_type": "code",
      "source": [
        "*middle, first = [1, 2, 3, 4, 5]\n",
        "\n",
        "print(first)\n",
        "print(middle)"
      ],
      "metadata": {
        "colab": {
          "base_uri": "https://localhost:8080/"
        },
        "id": "wLsKrmszKHci",
        "outputId": "298eb641-d422-4f33-b979-f373ae5270b1"
      },
      "execution_count": null,
      "outputs": [
        {
          "output_type": "stream",
          "name": "stdout",
          "text": [
            "5\n",
            "[1, 2, 3, 4]\n"
          ]
        }
      ]
    },
    {
      "cell_type": "markdown",
      "source": [
        "# 3. 리스트"
      ],
      "metadata": {
        "id": "uEY-3iwWKeuo"
      }
    },
    {
      "cell_type": "code",
      "source": [
        "# 리스트의 장점: 여러가지 자료형을 넣을 수 있다.\n",
        "\n",
        "z = [1, 'apple', 2.5, ['a', 'b'], (1, 2), True]\n",
        "print(z)\n",
        "print(z[0])\n",
        "print(z[1])\n",
        "print(z[2])\n",
        "print(z[3])\n",
        "print(z[4])\n",
        "print(int(z[5]))"
      ],
      "metadata": {
        "colab": {
          "base_uri": "https://localhost:8080/"
        },
        "id": "pGY-RKn_Kd-N",
        "outputId": "a047e2e8-b294-4d44-f75a-756fdb41c9d1"
      },
      "execution_count": null,
      "outputs": [
        {
          "output_type": "stream",
          "name": "stdout",
          "text": [
            "[1, 'apple', 2.5, ['a', 'b'], (1, 2), True]\n",
            "1\n",
            "apple\n",
            "2.5\n",
            "['a', 'b']\n",
            "(1, 2)\n",
            "1\n"
          ]
        }
      ]
    },
    {
      "cell_type": "code",
      "source": [
        "# 이렇게 적는것도 가능\n",
        "z = [\n",
        "    1,\n",
        "    'apple',\n",
        "    2.5,\n",
        "    ['a', 'b'],\n",
        "    (1, 2)\n",
        "]\n",
        "print(z[0])"
      ],
      "metadata": {
        "colab": {
          "base_uri": "https://localhost:8080/"
        },
        "id": "SEzr3uaGKd4_",
        "outputId": "0fc9af3b-2374-44c4-815c-62a5b36be099"
      },
      "execution_count": null,
      "outputs": [
        {
          "output_type": "stream",
          "name": "stdout",
          "text": [
            "1\n"
          ]
        }
      ]
    },
    {
      "cell_type": "code",
      "source": [
        "# 3.1 리스트 값 수정\n",
        "\n",
        "a = [1, 2, 3, 4, 5]\n",
        "a[0] = 10000\n",
        "a[1] = [1, 2]\n",
        "print(a)"
      ],
      "metadata": {
        "colab": {
          "base_uri": "https://localhost:8080/"
        },
        "id": "pzAXaL6_Lylp",
        "outputId": "0647c2bf-7b10-4c11-ef4f-ec08f1c3500d"
      },
      "execution_count": null,
      "outputs": [
        {
          "output_type": "stream",
          "name": "stdout",
          "text": [
            "[10000, [1, 2], 3, 4, 5]\n"
          ]
        }
      ]
    },
    {
      "cell_type": "markdown",
      "source": [
        "* 문자열은 변경 할 수 없다!"
      ],
      "metadata": {
        "id": "IiLc6q8xMNUl"
      }
    },
    {
      "cell_type": "code",
      "source": [
        "# 문자열 변경 불가능!!!\n",
        "s = 'licat'\n",
        "print(s[0])\n",
        "s[0] = 'k'                   # 오류 발생"
      ],
      "metadata": {
        "id": "duT6VQozMMBz"
      },
      "execution_count": null,
      "outputs": []
    },
    {
      "cell_type": "code",
      "source": [
        "ss = s.replace(\"l\", \"k\")\n",
        "print(ss)"
      ],
      "metadata": {
        "colab": {
          "base_uri": "https://localhost:8080/"
        },
        "id": "oLECLXIXMzie",
        "outputId": "ffa22dfb-04e5-4d35-eebc-7644c9a753a2"
      },
      "execution_count": null,
      "outputs": [
        {
          "output_type": "stream",
          "name": "stdout",
          "text": [
            "kicat\n"
          ]
        }
      ]
    },
    {
      "cell_type": "code",
      "source": [
        "# 3.2 리스트 안에 리스트\n",
        "\n",
        "b = [[10, 20 ,30], [1, 2, 3]]\n",
        "print(b[1][2])               # 출력: 3\n"
      ],
      "metadata": {
        "id": "nhtx96xVM9d7"
      },
      "execution_count": null,
      "outputs": []
    },
    {
      "cell_type": "markdown",
      "source": [
        "* 다차원 리스트는 헷갈리기 때문에 주의해야한다!'0'"
      ],
      "metadata": {
        "id": "uFBRCq-vNXDS"
      }
    },
    {
      "cell_type": "code",
      "source": [
        "# 리스트의 덧셈\n",
        "\n",
        "a = [1, 2, 3]; b = [4, 5, 6]\n",
        "print(a + b)"
      ],
      "metadata": {
        "colab": {
          "base_uri": "https://localhost:8080/"
        },
        "id": "ocUVdCzDNVtl",
        "outputId": "4d4bad48-9096-47bc-ce5c-753741e1a1d5"
      },
      "execution_count": null,
      "outputs": [
        {
          "output_type": "stream",
          "name": "stdout",
          "text": [
            "[1, 2, 3, 4, 5, 6]\n"
          ]
        }
      ]
    },
    {
      "cell_type": "code",
      "source": [
        "import numpy as np\n",
        "\n",
        "l = [1, 2, 3]\n",
        "l = np.array(l)\n",
        "print(l)\n",
        "print(l * 3)\n",
        "print(l + l)\n",
        "\n",
        "print(type(l))                # ?????ㅜㅜ 몰라 ㅜㅜ"
      ],
      "metadata": {
        "colab": {
          "base_uri": "https://localhost:8080/"
        },
        "id": "pcZLFmgENz7G",
        "outputId": "ade172d1-2609-465b-ef0b-4a9a87a5ef8e"
      },
      "execution_count": null,
      "outputs": [
        {
          "output_type": "stream",
          "name": "stdout",
          "text": [
            "[1 2 3]\n",
            "[3 6 9]\n",
            "[2 4 6]\n",
            "<class 'numpy.ndarray'>\n"
          ]
        }
      ]
    },
    {
      "cell_type": "code",
      "source": [
        "# numpy 없이 실행하면?\n",
        "l = [1, 2, 3]\n",
        "\n",
        "print(1)\n",
        "print(l * 3)\n",
        "print(l + l)\n",
        "\n",
        "print(type(l))                # ?????ㅜㅜ 몰라 ㅜㅜ"
      ],
      "metadata": {
        "colab": {
          "base_uri": "https://localhost:8080/"
        },
        "id": "QtgQ2uDpQD9D",
        "outputId": "e3673830-71cf-4765-da3b-36bee0d38dc5"
      },
      "execution_count": null,
      "outputs": [
        {
          "output_type": "stream",
          "name": "stdout",
          "text": [
            "1\n",
            "[1, 2, 3, 1, 2, 3, 1, 2, 3]\n",
            "[1, 2, 3, 1, 2, 3]\n",
            "<class 'list'>\n"
          ]
        }
      ]
    },
    {
      "cell_type": "code",
      "source": [
        "# 슬라이싱 실습\n",
        "\n",
        "l = [1, 2, 3, 4, 5]\n",
        "print(l[:])\n",
        "print(l[::-1])\n",
        "print(l[::2])\n",
        "print(l[0:4][::-1])         # ?????ㅜㅜ 몰라 ㅜㅜ\n"
      ],
      "metadata": {
        "colab": {
          "base_uri": "https://localhost:8080/"
        },
        "id": "RFaG851uQkUp",
        "outputId": "7fee6bbd-4879-404b-a315-db8a931a0da6"
      },
      "execution_count": null,
      "outputs": [
        {
          "output_type": "stream",
          "name": "stdout",
          "text": [
            "[1, 2, 3, 4, 5]\n",
            "[5, 4, 3, 2, 1]\n",
            "[1, 3, 5]\n",
            "[4, 3, 2, 1]\n"
          ]
        }
      ]
    },
    {
      "cell_type": "markdown",
      "source": [
        "* 데이터가 크다. 내가 원하는대로 데이터를 추출하고 싶다?!\\\n",
        "1.샘풀링-> 1억개 데이터-> 천개-> 리스트 슬라이싱,메서드-> 1억개 데이터에 적용"
      ],
      "metadata": {
        "id": "ct2GAv1HRVpw"
      }
    },
    {
      "cell_type": "code",
      "source": [
        "# 슬라이싱은 범위를 벗어나도 # 에러가 발생하지 않는다\n",
        "\n",
        "l = [1, 2, 3, 4, 5]\n",
        "print(l[10:20])              # ?????ㅜㅜ 몰라 ㅜㅜ"
      ],
      "metadata": {
        "colab": {
          "base_uri": "https://localhost:8080/"
        },
        "id": "2aoAXKIYRsck",
        "outputId": "8fba8815-9b52-473c-f01c-bd3a1440e359"
      },
      "execution_count": null,
      "outputs": [
        {
          "output_type": "stream",
          "name": "stdout",
          "text": [
            "[]\n"
          ]
        }
      ]
    }
  ]
}