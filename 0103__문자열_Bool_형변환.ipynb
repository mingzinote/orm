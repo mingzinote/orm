{
  "nbformat": 4,
  "nbformat_minor": 0,
  "metadata": {
    "colab": {
      "provenance": [],
      "authorship_tag": "ABX9TyPRk1sc5q+2K4J6Bjb4Joe/",
      "include_colab_link": true
    },
    "kernelspec": {
      "name": "python3",
      "display_name": "Python 3"
    },
    "language_info": {
      "name": "python"
    }
  },
  "cells": [
    {
      "cell_type": "markdown",
      "metadata": {
        "id": "view-in-github",
        "colab_type": "text"
      },
      "source": [
        "<a href=\"https://colab.research.google.com/github/mingzinote/orm/blob/main/0103__%EB%AC%B8%EC%9E%90%EC%97%B4_Bool_%ED%98%95%EB%B3%80%ED%99%98.ipynb\" target=\"_parent\"><img src=\"https://colab.research.google.com/assets/colab-badge.svg\" alt=\"Open In Colab\"/></a>"
      ]
    },
    {
      "cell_type": "markdown",
      "source": [
        "# 1. 문자열"
      ],
      "metadata": {
        "id": "OCf4mid9T-Mf"
      }
    },
    {
      "cell_type": "code",
      "source": [
        "# 1.1 문자열 기초\n",
        "\n",
        "x = '안녕하세요. 저는 위니브의 대표 이호준입니다. 파이썬 참 좋아요. 여러분! 정말 잘 선택하셨어요'\n",
        "y = \"python\""
      ],
      "metadata": {
        "id": "GmFM7Gd0UJGW"
      },
      "execution_count": null,
      "outputs": []
    },
    {
      "cell_type": "code",
      "source": [
        "print(x, y)"
      ],
      "metadata": {
        "colab": {
          "base_uri": "https://localhost:8080/"
        },
        "id": "S40aD2GrUe1w",
        "outputId": "bffbd3fe-5fea-4819-863d-6f4db569bee7"
      },
      "execution_count": null,
      "outputs": [
        {
          "output_type": "stream",
          "name": "stdout",
          "text": [
            "안녕하세요. 저는 위니브의 대표 이호준입니다. 파이썬 참 좋아요. 여러분! 정말 잘 선택하셨어요 python\n"
          ]
        }
      ]
    },
    {
      "cell_type": "code",
      "source": [
        "print(type(x),type(y))"
      ],
      "metadata": {
        "colab": {
          "base_uri": "https://localhost:8080/"
        },
        "id": "1RzUXQANUjgJ",
        "outputId": "5b43214d-9707-4a7d-de3b-f2481cb9336f"
      },
      "execution_count": null,
      "outputs": [
        {
          "output_type": "stream",
          "name": "stdout",
          "text": [
            "<class 'str'> <class 'str'>\n"
          ]
        }
      ]
    },
    {
      "cell_type": "code",
      "source": [
        "i = '''안녕하세요.\n",
        "저는 위니브의 대표 이호준입니다.\n",
        "파이썬 참 좋아요.\n",
        "여러분! 정말 잘 선택하셨어요.\n",
        "'''\n",
        "j = \"\"\"안녕하세요.\n",
        "저는 위니브의 대표 이호준입니다.\n",
        "파이썬 참 좋아요.\n",
        "여러분 정말 잘 선택하셨어요.\n",
        "\"\"\""
      ],
      "metadata": {
        "id": "YKigQ1RiUt5p"
      },
      "execution_count": null,
      "outputs": []
    },
    {
      "cell_type": "code",
      "source": [
        "i"
      ],
      "metadata": {
        "colab": {
          "base_uri": "https://localhost:8080/",
          "height": 56
        },
        "id": "Fz-RzRqrVIOL",
        "outputId": "640d7e56-931a-4139-dfbb-1baa9192ef34"
      },
      "execution_count": null,
      "outputs": [
        {
          "output_type": "execute_result",
          "data": {
            "text/plain": [
              "'안녕하세요.\\n저는 위니브의 대표 이호준입니다.\\n파이썬 참 좋아요.\\n여러분! 정말 잘 선택하셨어요.\\n'"
            ],
            "application/vnd.google.colaboratory.intrinsic+json": {
              "type": "string"
            }
          },
          "metadata": {},
          "execution_count": 6
        }
      ]
    },
    {
      "cell_type": "code",
      "source": [
        "print(i)"
      ],
      "metadata": {
        "colab": {
          "base_uri": "https://localhost:8080/"
        },
        "id": "crUn7ukbVKyI",
        "outputId": "6cee4e61-e9ee-4800-de3b-971027f0a858"
      },
      "execution_count": null,
      "outputs": [
        {
          "output_type": "stream",
          "name": "stdout",
          "text": [
            "안녕하세요.\n",
            "저는 위니브의 대표 이호준입니다.\n",
            "파이썬 참 좋아요.\n",
            "여러분! 정말 잘 선택하셨어요.\n",
            "\n"
          ]
        }
      ]
    },
    {
      "cell_type": "code",
      "source": [
        "print(j)"
      ],
      "metadata": {
        "colab": {
          "base_uri": "https://localhost:8080/"
        },
        "id": "WZf2MdpDVOK6",
        "outputId": "566e8106-bf97-42fd-b8ba-f693fbeb9665"
      },
      "execution_count": null,
      "outputs": [
        {
          "output_type": "stream",
          "name": "stdout",
          "text": [
            "안녕하세요.\n",
            "저는 위니브의 대표 이호준입니다.\n",
            "파이썬 참 좋아요.\n",
            "여러분 정말 잘 선택하셨어요.\n",
            "\n"
          ]
        }
      ]
    },
    {
      "cell_type": "code",
      "source": [
        "# 1.2 문자열 덧셈, 곱셈\n",
        "\n",
        "# 문자열의 덧셈\n",
        "\n",
        "x = 'hello'\n",
        "y = 'world'\n",
        "print(x + y) # 출력: hellowold\n",
        "\n",
        "x = '10'\n",
        "y = '20'\n",
        "print(x + y)\n",
        "\n",
        "# 문자열의 곱셈\n",
        "\n",
        "print(x * 100)"
      ],
      "metadata": {
        "colab": {
          "base_uri": "https://localhost:8080/"
        },
        "id": "ocmldPWeVSep",
        "outputId": "72f5beab-ac69-4388-c819-562a960ab158"
      },
      "execution_count": null,
      "outputs": [
        {
          "output_type": "stream",
          "name": "stdout",
          "text": [
            "helloworld\n",
            "1020\n",
            "10101010101010101010101010101010101010101010101010101010101010101010101010101010101010101010101010101010101010101010101010101010101010101010101010101010101010101010101010101010101010101010101010101010\n"
          ]
        }
      ]
    },
    {
      "cell_type": "code",
      "source": [
        "# 1.3 문자열 인덱싱\n",
        "    #012 3 456\n",
        "s = '위니브 월드!'\n",
        "print(s[0])    #출력: '위'\n",
        "print(s[6])    #출력: '!'\n",
        "print(s[-1])   #출력: '!'"
      ],
      "metadata": {
        "colab": {
          "base_uri": "https://localhost:8080/"
        },
        "id": "JqcRDlrJWV6j",
        "outputId": "a7be55e8-9f2a-4003-ca9f-14c3b86c8f07"
      },
      "execution_count": null,
      "outputs": [
        {
          "output_type": "stream",
          "name": "stdout",
          "text": [
            "위\n",
            "!\n",
            "!\n"
          ]
        }
      ]
    },
    {
      "cell_type": "code",
      "source": [
        "print(s[7])"
      ],
      "metadata": {
        "colab": {
          "base_uri": "https://localhost:8080/"
        },
        "id": "dTXrMCXNXXg1",
        "outputId": "d37c1147-568e-4532-ee7e-f6d99e1558be"
      },
      "execution_count": null,
      "outputs": [
        {
          "output_type": "stream",
          "name": "stdout",
          "text": [
            "외\n"
          ]
        }
      ]
    },
    {
      "cell_type": "code",
      "source": [
        "# 1.4 문자열 슬라이싱                      ???????????왜???????????\n",
        "s = '위니브 월드 외곽'\n",
        "\n",
        "print(s[0:9:2])"
      ],
      "metadata": {
        "colab": {
          "base_uri": "https://localhost:8080/"
        },
        "id": "Og9v1DMyXGsw",
        "outputId": "c311cd57-3bb5-4538-c969-ce1cfb8b85a0"
      },
      "execution_count": null,
      "outputs": [
        {
          "output_type": "stream",
          "name": "stdout",
          "text": [
            "위브월 곽\n"
          ]
        }
      ]
    },
    {
      "cell_type": "code",
      "source": [
        "s = 'weniv CEO licat'\n",
        "# 시작점을 설정하고 끝까지 출력\n",
        "print(s[6:]) # 출력: CEO licat\n",
        "# 전체 출력\n",
        "print(s[:]) # 출력: weniv CEO licat\n",
        "# 거꾸로 출력\n",
        "print(s[::-1]) # 출력: tacil OEC vinew\n",
        "# 2칸씩 출력\n",
        "print(s[::2]) # 출력: wnvCOlct"
      ],
      "metadata": {
        "colab": {
          "base_uri": "https://localhost:8080/"
        },
        "id": "USlVYgvNXm22",
        "outputId": "5613186d-da15-406d-bfbb-d132f4eef51f"
      },
      "execution_count": null,
      "outputs": [
        {
          "output_type": "stream",
          "name": "stdout",
          "text": [
            "CEO licat\n",
            "weniv CEO licat\n",
            "tacil OEC vinew\n",
            "wnvCOlct\n"
          ]
        }
      ]
    },
    {
      "cell_type": "code",
      "source": [
        "print(s[::-1])"
      ],
      "metadata": {
        "colab": {
          "base_uri": "https://localhost:8080/"
        },
        "id": "Mx3rM1mMbS9U",
        "outputId": "4751d192-8cf6-4c88-8db5-3f3347fe3342"
      },
      "execution_count": null,
      "outputs": [
        {
          "output_type": "stream",
          "name": "stdout",
          "text": [
            "tacil OEC vinew\n"
          ]
        }
      ]
    },
    {
      "cell_type": "code",
      "source": [
        "s = 'weniv CEO licat'\n",
        "s[10:100] # 출력: licat"
      ],
      "metadata": {
        "colab": {
          "base_uri": "https://localhost:8080/",
          "height": 56
        },
        "id": "LCCNXk_4bsSg",
        "outputId": "c883d413-bdf6-4629-8dce-9210a63ab309"
      },
      "execution_count": null,
      "outputs": [
        {
          "output_type": "execute_result",
          "data": {
            "text/plain": [
              "'licat'"
            ],
            "application/vnd.google.colaboratory.intrinsic+json": {
              "type": "string"
            }
          },
          "metadata": {},
          "execution_count": 17
        }
      ]
    },
    {
      "cell_type": "markdown",
      "source": [
        "`s[10:100]`"
      ],
      "metadata": {
        "id": "r1A2GkMWdt98"
      }
    },
    {
      "cell_type": "code",
      "source": [
        "# 1.4 슬라이스 실습\n",
        "\n",
        "s = 'weniv_licat.png'\n",
        "# 1. 출력 weniv_licat 만 나오게\n",
        "# 2. 출력 png만 나오게\n",
        "\n",
        "s[-3:]"
      ],
      "metadata": {
        "colab": {
          "base_uri": "https://localhost:8080/",
          "height": 56
        },
        "id": "_RwcrqCudMWC",
        "outputId": "c709837a-748f-467a-9480-88fea572af9b"
      },
      "execution_count": null,
      "outputs": [
        {
          "output_type": "execute_result",
          "data": {
            "text/plain": [
              "'png'"
            ],
            "application/vnd.google.colaboratory.intrinsic+json": {
              "type": "string"
            }
          },
          "metadata": {},
          "execution_count": 18
        }
      ]
    },
    {
      "cell_type": "code",
      "source": [
        "# 1.5 슬라이스 복사 - 다만 ID가 달라짐\n",
        "\n",
        "s = [1, 2, 3]\n",
        "ss = s[:]\n",
        "\n",
        "print(s, ss)\n",
        "print(id(s), id(ss))"
      ],
      "metadata": {
        "colab": {
          "base_uri": "https://localhost:8080/"
        },
        "id": "YHnLYZyTilTx",
        "outputId": "1f19ea7a-6ee4-4f21-a7ce-e2ce5106f44a"
      },
      "execution_count": null,
      "outputs": [
        {
          "output_type": "stream",
          "name": "stdout",
          "text": [
            "[1, 2, 3] [1, 2, 3]\n",
            "140409919683008 140409919672896\n"
          ]
        }
      ]
    },
    {
      "cell_type": "markdown",
      "source": [
        "### `s.lower()  소문자`로 바꿔주는"
      ],
      "metadata": {
        "id": "D8sa009B1Uvy"
      }
    },
    {
      "cell_type": "code",
      "source": [
        "# 1.6 메서드 1: 대문자 소문자\n",
        "\n",
        "s = 'weniv CEO licat'\n",
        "s.lower()"
      ],
      "metadata": {
        "colab": {
          "base_uri": "https://localhost:8080/",
          "height": 56
        },
        "id": "S1vzv9CAeVd0",
        "outputId": "406be02c-7caf-473e-c88f-2b0bccc64dc0"
      },
      "execution_count": null,
      "outputs": [
        {
          "output_type": "execute_result",
          "data": {
            "text/plain": [
              "'weniv ceo licat'"
            ],
            "application/vnd.google.colaboratory.intrinsic+json": {
              "type": "string"
            }
          },
          "metadata": {},
          "execution_count": 19
        }
      ]
    },
    {
      "cell_type": "markdown",
      "source": [
        "### `s.upper()  대문자`로 바꿔주는"
      ],
      "metadata": {
        "id": "eNk1sRMt13Gs"
      }
    },
    {
      "cell_type": "code",
      "source": [
        "s.upper()"
      ],
      "metadata": {
        "colab": {
          "base_uri": "https://localhost:8080/",
          "height": 56
        },
        "id": "nMv7m0WSexSW",
        "outputId": "229eb1a7-115f-480c-fd27-3a1ce08397db"
      },
      "execution_count": null,
      "outputs": [
        {
          "output_type": "execute_result",
          "data": {
            "text/plain": [
              "'WENIV CEO LICAT'"
            ],
            "application/vnd.google.colaboratory.intrinsic+json": {
              "type": "string"
            }
          },
          "metadata": {},
          "execution_count": 20
        }
      ]
    },
    {
      "cell_type": "markdown",
      "source": [
        "### `s.find()  문자열`을 찾아주는"
      ],
      "metadata": {
        "id": "uwnfTL3c2bv8"
      }
    },
    {
      "cell_type": "code",
      "source": [
        "# 1.7 메서드 2: find index\n",
        "\n",
        "s = 'weniv CEO licat'\n",
        "s.find('CEO')"
      ],
      "metadata": {
        "colab": {
          "base_uri": "https://localhost:8080/"
        },
        "id": "LOODo3efe-vx",
        "outputId": "fbd28b7c-a52c-4324-f7d0-1842cd07f5f5"
      },
      "execution_count": null,
      "outputs": [
        {
          "output_type": "execute_result",
          "data": {
            "text/plain": [
              "6"
            ]
          },
          "metadata": {},
          "execution_count": 28
        }
      ]
    },
    {
      "cell_type": "markdown",
      "source": [
        "###`s.index()  문자열`을 찾아주는"
      ],
      "metadata": {
        "id": "B_Ie2Myi24cu"
      }
    },
    {
      "cell_type": "code",
      "source": [
        "s.index('CEO')"
      ],
      "metadata": {
        "colab": {
          "base_uri": "https://localhost:8080/"
        },
        "id": "tPQHL3VMkBy2",
        "outputId": "58c81ac0-4ace-4eb2-846d-500b32805446"
      },
      "execution_count": null,
      "outputs": [
        {
          "output_type": "execute_result",
          "data": {
            "text/plain": [
              "6"
            ]
          },
          "metadata": {},
          "execution_count": 29
        }
      ]
    },
    {
      "cell_type": "code",
      "source": [
        "s.find('CTO') # 문자열을 찾아주는 method"
      ],
      "metadata": {
        "colab": {
          "base_uri": "https://localhost:8080/"
        },
        "id": "KrpGD7z-kS8e",
        "outputId": "8f1953e9-2255-4147-fc5f-eb5148820f7f"
      },
      "execution_count": null,
      "outputs": [
        {
          "output_type": "execute_result",
          "data": {
            "text/plain": [
              "-1"
            ]
          },
          "metadata": {},
          "execution_count": 30
        }
      ]
    },
    {
      "cell_type": "markdown",
      "source": [
        "###`s.count(' ')  문자열,숫자` 셀 때"
      ],
      "metadata": {
        "id": "OFdEDopV3JFx"
      }
    },
    {
      "cell_type": "code",
      "source": [
        "# 1.8 메서드 3 : count\n",
        "\n",
        "s = 'weniv CEO licat'\n",
        "s.count(' ')\n",
        "\n",
        "# 공백\n",
        "# 대문자/ 소문자 구분\n",
        "# 일치만하면 다 찾아준다"
      ],
      "metadata": {
        "colab": {
          "base_uri": "https://localhost:8080/"
        },
        "id": "XrD0pTF_wSYo",
        "outputId": "61c6acf3-8adf-4826-bc0a-7827883da6ad"
      },
      "execution_count": null,
      "outputs": [
        {
          "output_type": "execute_result",
          "data": {
            "text/plain": [
              "2"
            ]
          },
          "metadata": {},
          "execution_count": 31
        }
      ]
    },
    {
      "cell_type": "markdown",
      "source": [
        "###`s.strip()  양쪽 공백 제거`"
      ],
      "metadata": {
        "id": "EceGgS7j4AoQ"
      }
    },
    {
      "cell_type": "code",
      "source": [
        "# 1.9 메서드 4 : strip / excel - trim()\n",
        "# strip 함수를 너무 신뢰하지 말아라!\n",
        "s = '    weniv CEO licat    '\n",
        "s.strip()"
      ],
      "metadata": {
        "colab": {
          "base_uri": "https://localhost:8080/",
          "height": 56
        },
        "id": "G3Pu7QfVww6p",
        "outputId": "6470eeb4-9430-40e0-8935-670eb58266f6"
      },
      "execution_count": null,
      "outputs": [
        {
          "output_type": "execute_result",
          "data": {
            "text/plain": [
              "'weniv CEO licat'"
            ],
            "application/vnd.google.colaboratory.intrinsic+json": {
              "type": "string"
            }
          },
          "metadata": {},
          "execution_count": 32
        }
      ]
    },
    {
      "cell_type": "code",
      "source": [
        "'    ,!!    hello world    '.strip(' ,!#@~')\n",
        "\n",
        "# 양쪽의 공백과 ',!' 을 제거해주는 method"
      ],
      "metadata": {
        "colab": {
          "base_uri": "https://localhost:8080/",
          "height": 56
        },
        "id": "WkY5R6tCxen8",
        "outputId": "23fcdb18-b7ee-496c-82fd-50527262d6b4"
      },
      "execution_count": null,
      "outputs": [
        {
          "output_type": "execute_result",
          "data": {
            "text/plain": [
              "'hello world'"
            ],
            "application/vnd.google.colaboratory.intrinsic+json": {
              "type": "string"
            }
          },
          "metadata": {},
          "execution_count": 35
        }
      ]
    },
    {
      "cell_type": "markdown",
      "source": [
        "###`s.replace()  원하는 문자열을 다른 문자열로 대체` 할 때"
      ],
      "metadata": {
        "id": "H32QZyxA4gxU"
      }
    },
    {
      "cell_type": "code",
      "source": [
        "# 1.10 메서드 5 : replace\n",
        "\n",
        "s = 'weniv CEO licat'\n",
        "s.replace('CEO', 'CTO')"
      ],
      "metadata": {
        "colab": {
          "base_uri": "https://localhost:8080/",
          "height": 56
        },
        "id": "1tRub9SayMwk",
        "outputId": "3c0f28d5-6f38-47b3-a919-702c0ca70e4d"
      },
      "execution_count": null,
      "outputs": [
        {
          "output_type": "execute_result",
          "data": {
            "text/plain": [
              "'weniv CTO licat'"
            ],
            "application/vnd.google.colaboratory.intrinsic+json": {
              "type": "string"
            }
          },
          "metadata": {},
          "execution_count": 36
        }
      ]
    },
    {
      "cell_type": "code",
      "source": [
        "s = 'weniv CEO licat'\n",
        "s.replace('i', 'I')    # 문자열 내에서 모든 i를 I로 대체할 때 사용하는 method"
      ],
      "metadata": {
        "colab": {
          "base_uri": "https://localhost:8080/",
          "height": 56
        },
        "id": "ayUWHyPCyj-U",
        "outputId": "08dc6b44-817b-4e46-a54a-d32a8fbe3d92"
      },
      "execution_count": null,
      "outputs": [
        {
          "output_type": "execute_result",
          "data": {
            "text/plain": [
              "'wenIv CEO lIcat'"
            ],
            "application/vnd.google.colaboratory.intrinsic+json": {
              "type": "string"
            }
          },
          "metadata": {},
          "execution_count": 37
        }
      ]
    },
    {
      "cell_type": "code",
      "source": [
        "s = 'weniv CEO licat'\n",
        "ss = s.replace('i', 'I')\n",
        "ss, s # 출력: ('weniv CEO licat', 'wediv CEO licat')"
      ],
      "metadata": {
        "colab": {
          "base_uri": "https://localhost:8080/"
        },
        "id": "9ylQOpJgzDdQ",
        "outputId": "3fe36eda-8a46-4690-c591-acb55ab645f9"
      },
      "execution_count": null,
      "outputs": [
        {
          "output_type": "execute_result",
          "data": {
            "text/plain": [
              "('wenIv CEO lIcat', 'weniv CEO licat')"
            ]
          },
          "metadata": {},
          "execution_count": 38
        }
      ]
    },
    {
      "cell_type": "markdown",
      "source": [
        "# 2. 논리(Bool)\n",
        "* `True`: 참을 나타냅니다. 1과 같은 값으로 취급됩니다.\n",
        "* `False`: 거짓을 나타냅니다. 0과 같은 값으로 취급됩니다."
      ],
      "metadata": {
        "id": "aBf1KLKrixOG"
      }
    },
    {
      "cell_type": "code",
      "source": [
        "print(True == 1)                         # 출력: True\n",
        "print(False == 0)                        # 출력: True"
      ],
      "metadata": {
        "colab": {
          "base_uri": "https://localhost:8080/"
        },
        "id": "PmNEGo7gjKIa",
        "outputId": "481496c6-ac5b-4c8b-bf9d-d1ed6a8da6b6"
      },
      "execution_count": null,
      "outputs": [
        {
          "output_type": "stream",
          "name": "stdout",
          "text": [
            "True\n",
            "True\n"
          ]
        }
      ]
    },
    {
      "cell_type": "code",
      "source": [
        "# 사칙연산도 가능하다.\n",
        "print(True + True)                       # 출력: 2\n",
        "print(False - True)                      # 출력: -1\n",
        "print(True / True)                       # 출력: 1.0\n",
        "print(True * False)                      # 출력: 0\n",
        "print(True / False)                      # error"
      ],
      "metadata": {
        "colab": {
          "base_uri": "https://localhost:8080/",
          "height": 287
        },
        "id": "y5VWTJt7jP-F",
        "outputId": "7d18b980-5ee2-4201-8ab8-f24b86956625"
      },
      "execution_count": null,
      "outputs": [
        {
          "output_type": "stream",
          "name": "stdout",
          "text": [
            "2\n",
            "-1\n",
            "1.0\n",
            "0\n"
          ]
        },
        {
          "output_type": "error",
          "ename": "ZeroDivisionError",
          "evalue": "division by zero",
          "traceback": [
            "\u001b[0;31m---------------------------------------------------------------------------\u001b[0m",
            "\u001b[0;31mZeroDivisionError\u001b[0m                         Traceback (most recent call last)",
            "\u001b[0;32m<ipython-input-2-85b934fdd5f2>\u001b[0m in \u001b[0;36m<cell line: 6>\u001b[0;34m()\u001b[0m\n\u001b[1;32m      4\u001b[0m \u001b[0mprint\u001b[0m\u001b[0;34m(\u001b[0m\u001b[0;32mTrue\u001b[0m \u001b[0;34m/\u001b[0m \u001b[0;32mTrue\u001b[0m\u001b[0;34m)\u001b[0m                       \u001b[0;31m# 출력: 1.0\u001b[0m\u001b[0;34m\u001b[0m\u001b[0;34m\u001b[0m\u001b[0m\n\u001b[1;32m      5\u001b[0m \u001b[0mprint\u001b[0m\u001b[0;34m(\u001b[0m\u001b[0;32mTrue\u001b[0m \u001b[0;34m*\u001b[0m \u001b[0;32mFalse\u001b[0m\u001b[0;34m)\u001b[0m                      \u001b[0;31m# 출력: 0\u001b[0m\u001b[0;34m\u001b[0m\u001b[0;34m\u001b[0m\u001b[0m\n\u001b[0;32m----> 6\u001b[0;31m \u001b[0mprint\u001b[0m\u001b[0;34m(\u001b[0m\u001b[0;32mTrue\u001b[0m \u001b[0;34m/\u001b[0m \u001b[0;32mFalse\u001b[0m\u001b[0;34m)\u001b[0m                      \u001b[0;31m# error\u001b[0m\u001b[0;34m\u001b[0m\u001b[0;34m\u001b[0m\u001b[0m\n\u001b[0m",
            "\u001b[0;31mZeroDivisionError\u001b[0m: division by zero"
          ]
        }
      ]
    },
    {
      "cell_type": "markdown",
      "source": [
        "# 3. None\n",
        "‘비어 있다’, ‘아무것도 없다’, ‘정보가 없다’를 표현하고 싶을 때 사용하는 것이 None입니다. 아래처럼 표현할 수 있습니다. None 자료형은 가질 수 있는 값이 None이 유일합니다."
      ],
      "metadata": {
        "id": "Ged8o3mQjTON"
      }
    },
    {
      "cell_type": "code",
      "source": [
        "dir(None) # 매직메서드, 메서드 확인-"
      ],
      "metadata": {
        "colab": {
          "base_uri": "https://localhost:8080/"
        },
        "id": "ZipPRhVnjpCP",
        "outputId": "7f3f8300-3f09-4fc6-b234-b4e0c315b768"
      },
      "execution_count": null,
      "outputs": [
        {
          "output_type": "execute_result",
          "data": {
            "text/plain": [
              "['__bool__',\n",
              " '__class__',\n",
              " '__delattr__',\n",
              " '__dir__',\n",
              " '__doc__',\n",
              " '__eq__',\n",
              " '__format__',\n",
              " '__ge__',\n",
              " '__getattribute__',\n",
              " '__gt__',\n",
              " '__hash__',\n",
              " '__init__',\n",
              " '__init_subclass__',\n",
              " '__le__',\n",
              " '__lt__',\n",
              " '__ne__',\n",
              " '__new__',\n",
              " '__reduce__',\n",
              " '__reduce_ex__',\n",
              " '__repr__',\n",
              " '__setattr__',\n",
              " '__sizeof__',\n",
              " '__str__',\n",
              " '__subclasshook__']"
            ]
          },
          "metadata": {},
          "execution_count": 3
        }
      ]
    },
    {
      "cell_type": "markdown",
      "source": [
        "* **None**의 값은 유일한 주소값"
      ],
      "metadata": {
        "id": "gbiFr9ukj0FF"
      }
    },
    {
      "cell_type": "code",
      "source": [
        "x = None\n",
        "y = None\n",
        "print(id(x), id(y))"
      ],
      "metadata": {
        "colab": {
          "base_uri": "https://localhost:8080/"
        },
        "id": "b_MLQBVvjtAt",
        "outputId": "6f4d10ad-f6a4-416c-8cdf-1f546ce52b4e"
      },
      "execution_count": null,
      "outputs": [
        {
          "output_type": "stream",
          "name": "stdout",
          "text": [
            "95760416105440 95760416105440\n"
          ]
        }
      ]
    },
    {
      "cell_type": "code",
      "source": [
        "x = None\n",
        "\n",
        "print(x == None)\n",
        "# True, 하지만 이 방식은 권장되지 않습니다.\n",
        "\n",
        "print(x is None)\n",
        "# True, 이 방식을 사용하여 None을 확인하는 것이 좋습니다."
      ],
      "metadata": {
        "id": "9WHwaoFnjw5p"
      },
      "execution_count": null,
      "outputs": []
    },
    {
      "cell_type": "markdown",
      "source": [
        "# 4. 형변환"
      ],
      "metadata": {
        "id": "VJXnsYjXlkFy"
      }
    },
    {
      "cell_type": "code",
      "source": [
        "# 1. 형변환 기본 예제\n",
        "\n",
        "월급 = input(\"월급을 입력하세요\")\n",
        "연봉 = int(월급) * 12\n",
        "print(연봉)"
      ],
      "metadata": {
        "colab": {
          "base_uri": "https://localhost:8080/"
        },
        "id": "BBNWpLQLlm7h",
        "outputId": "f1a815eb-2548-47f0-ba28-1194b34ea3c2"
      },
      "execution_count": 1,
      "outputs": [
        {
          "output_type": "stream",
          "name": "stdout",
          "text": [
            "월급을 입력하세요800\n",
            "9600\n"
          ]
        }
      ]
    },
    {
      "cell_type": "code",
      "source": [
        "# 제대로 수행\n",
        "월급 = int(input(\"월급을 입력하세요\"))\n",
        "print(연봉)"
      ],
      "metadata": {
        "colab": {
          "base_uri": "https://localhost:8080/"
        },
        "id": "X0pLU0kblePb",
        "outputId": "0fd1c6ce-4f9a-4724-f15f-009cf8f45df9"
      },
      "execution_count": 3,
      "outputs": [
        {
          "output_type": "stream",
          "name": "stdout",
          "text": [
            "월급을 입력하세요800\n",
            "9600\n"
          ]
        }
      ]
    },
    {
      "cell_type": "code",
      "source": [
        "# 4.2 소수형 -> 정수형\n",
        "\n",
        "f = 3.14159\n",
        "number = int(f)\n",
        "print(number)   # 출력: 3"
      ],
      "metadata": {
        "id": "-rqnhK5BmBsg"
      },
      "execution_count": null,
      "outputs": []
    },
    {
      "cell_type": "code",
      "source": [
        "# 4.3 불린 -> 정수형\n",
        "\n",
        "true_int = int(True)\n",
        "false_int = int(False)\n",
        "\n",
        "print(true_int) # 출력: 1\n",
        "print(false_int) # 출력: 0"
      ],
      "metadata": {
        "id": "rzpGWFVymJIx",
        "colab": {
          "base_uri": "https://localhost:8080/"
        },
        "outputId": "17233868-38c9-4924-a893-b85a2f68747e"
      },
      "execution_count": 4,
      "outputs": [
        {
          "output_type": "stream",
          "name": "stdout",
          "text": [
            "1\n",
            "0\n"
          ]
        }
      ]
    },
    {
      "cell_type": "code",
      "source": [
        "# 4.4 None은 형변환이 안 된다."
      ],
      "metadata": {
        "id": "JwSPrBM9mMZp"
      },
      "execution_count": null,
      "outputs": []
    },
    {
      "cell_type": "code",
      "source": [
        "# 4.5 str 형변환\n",
        "\n",
        "n = 123\n",
        "print(type(n))\n",
        "print(n)\n",
        "\n",
        "m = 123.4\n",
        "print(type(n))\n",
        "print(m)\n",
        "\n",
        "n = str(n)\n",
        "print(type(n))\n",
        "print(n)\n",
        "\n",
        "m = str(m)\n",
        "print(type(m))\n",
        "print(m)"
      ],
      "metadata": {
        "id": "WyE4AyGsmUKx",
        "colab": {
          "base_uri": "https://localhost:8080/"
        },
        "outputId": "2ba235e7-0ac1-4886-9e86-cb957edd8a6f"
      },
      "execution_count": 6,
      "outputs": [
        {
          "output_type": "stream",
          "name": "stdout",
          "text": [
            "<class 'int'>\n",
            "123\n",
            "<class 'int'>\n",
            "123.4\n",
            "<class 'str'>\n",
            "123\n",
            "<class 'str'>\n",
            "123.4\n"
          ]
        }
      ]
    },
    {
      "cell_type": "code",
      "source": [
        "s = 10\n",
        "print(float(s))\n",
        "\n",
        "s = '10'\n",
        "print(float(s))\n",
        "\n",
        "s = '3.14'\n",
        "print(float(s))"
      ],
      "metadata": {
        "id": "IcKDzChTmbnF",
        "colab": {
          "base_uri": "https://localhost:8080/"
        },
        "outputId": "d68a8a96-53ed-4f8d-d72c-1564bcf069fc"
      },
      "execution_count": 7,
      "outputs": [
        {
          "output_type": "stream",
          "name": "stdout",
          "text": [
            "10.0\n",
            "10.0\n",
            "3.14\n"
          ]
        }
      ]
    },
    {
      "cell_type": "code",
      "source": [
        "infinity = float('inf')\n",
        "neg_infinity = float('-inf')\n",
        "not_a_number = float('nan')"
      ],
      "metadata": {
        "id": "ueZwZg13meML"
      },
      "execution_count": 8,
      "outputs": []
    },
    {
      "cell_type": "code",
      "source": [
        "print(infinity)\n",
        "print(neg_infinity)\n",
        "print(not_a_number)"
      ],
      "metadata": {
        "id": "JyLd6-qYmlgn",
        "colab": {
          "base_uri": "https://localhost:8080/"
        },
        "outputId": "13495442-0477-4abd-c7f5-074b54d21f76"
      },
      "execution_count": 9,
      "outputs": [
        {
          "output_type": "stream",
          "name": "stdout",
          "text": [
            "inf\n",
            "-inf\n",
            "nan\n"
          ]
        }
      ]
    },
    {
      "cell_type": "code",
      "source": [
        "# map\n",
        "\n",
        "list(map(int, ['10', '20', '30']))"
      ],
      "metadata": {
        "id": "S-giZFa8mqR1",
        "colab": {
          "base_uri": "https://localhost:8080/"
        },
        "outputId": "a3ab235e-0169-4e9d-98da-611f44f90f14"
      },
      "execution_count": 10,
      "outputs": [
        {
          "output_type": "execute_result",
          "data": {
            "text/plain": [
              "[10, 20, 30]"
            ]
          },
          "metadata": {},
          "execution_count": 10
        }
      ]
    },
    {
      "cell_type": "code",
      "source": [
        "list(map(int, '12345'))"
      ],
      "metadata": {
        "id": "KDv7_cnsm9Oi",
        "colab": {
          "base_uri": "https://localhost:8080/"
        },
        "outputId": "6486dad1-f3f1-4067-c025-960c42aaf576"
      },
      "execution_count": 11,
      "outputs": [
        {
          "output_type": "execute_result",
          "data": {
            "text/plain": [
              "[1, 2, 3, 4, 5]"
            ]
          },
          "metadata": {},
          "execution_count": 11
        }
      ]
    }
  ]
}