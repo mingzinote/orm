{
  "nbformat": 4,
  "nbformat_minor": 0,
  "metadata": {
    "colab": {
      "provenance": [],
      "include_colab_link": true
    },
    "kernelspec": {
      "name": "python3",
      "display_name": "Python 3"
    },
    "language_info": {
      "name": "python"
    }
  },
  "cells": [
    {
      "cell_type": "markdown",
      "metadata": {
        "id": "view-in-github",
        "colab_type": "text"
      },
      "source": [
        "<a href=\"https://colab.research.google.com/github/mingzinote/orm/blob/main/0102__i_o_%EC%8B%A4%EC%8A%B5.ipynb\" target=\"_parent\"><img src=\"https://colab.research.google.com/assets/colab-badge.svg\" alt=\"Open In Colab\"/></a>"
      ]
    },
    {
      "cell_type": "markdown",
      "source": [
        "# 2024년 새해 계획 프로그램\n",
        "2024년도 계획을 10문장으로 적고, 그에 따른 2024년도 계획에서 중요 부분을 변수로 받아서 Input으로 받는 프로그램 만들기!\n",
        "\n",
        "1. 나의 2024년도 계획을 적는다.\n",
        "2. 그 중에서 변수로 만들수 있는 것들(input으로 받을 수 있는 것을 비운다.)\n",
        "3. 10 문장에 대해서 똑같이 적용한다. (1개~3개정도 단어)\n",
        "4. 테스트 해본다.\n",
        "5. 코드와 결과를 업로드 한다."
      ],
      "metadata": {
        "id": "4O9MSZp-lFVd"
      }
    },
    {
      "cell_type": "markdown",
      "source": [
        "## 2024년 계획 적기\n",
        "\n",
        "1. 이번 해에는 __을 꾸준히 한다.\n",
        "2. 2024년의 목표는 __ 언어를 배우는 것이다.\n",
        "3. 이번 해 안에는 __, __, __를 시작할것이다."
      ],
      "metadata": {
        "id": "jkcnN4BxlvPK"
      }
    },
    {
      "cell_type": "code",
      "source": [
        "sentence_1 = input(\"1. 이번 해에는 __ 을(를) 꾸준히 한다.\")\n",
        "sentence_2 = input(\"2. 2024년의 목표는 __ 언어를 배우는 것이다.\")\n",
        "sentence_3 = input(\"3. 이번 해 안에는 __, __, __ 을(를) 해볼것이다.\")"
      ],
      "metadata": {
        "colab": {
          "base_uri": "https://localhost:8080/"
        },
        "id": "EWqQ_OkXl6z9",
        "outputId": "1b4191f9-93d1-4b0f-907e-5708abdc0b77"
      },
      "execution_count": null,
      "outputs": [
        {
          "name": "stdout",
          "output_type": "stream",
          "text": [
            "1. 이번 해에는 __ 을(를) 꾸준히 한다.공부\n",
            "2. 2024년의 목표는 __ 언어를 배우는 것이다.python\n",
            "3. 이번 해 안에는 __, __, __ 을(를) 해볼것이다.영어 운동 손톱안뜯기\n"
          ]
        }
      ]
    },
    {
      "cell_type": "code",
      "source": [
        "print(f\"1. 이번 해에는 {sentence_1} 을(를) 꾸준히 한다.\")\n",
        "print(f\"2. 2024년의 목표는 {sentence_2} 언어를 배우는 것이다.\")\n",
        "word_1, word_2, word_3 = sentence_3.split(\" \")\n",
        "# split() 하면 자동으로 공백/탭/엔터를 기준으로 나눠줌.\n",
        "print(f\"3. 이번 해 안에는 {word_1}, {word_2}, {word_3} 을(를) 시작할것이다.\")"
      ],
      "metadata": {
        "colab": {
          "base_uri": "https://localhost:8080/"
        },
        "id": "PoTQa7_Imk_U",
        "outputId": "c3f6c71e-9194-405a-a42a-2b3ff41e01dd"
      },
      "execution_count": null,
      "outputs": [
        {
          "output_type": "stream",
          "name": "stdout",
          "text": [
            "1. 이번 해에는 공부 을(를) 꾸준히 한다.\n",
            "2. 2024년의 목표는 python 언어를 배우는 것이다.\n",
            "3. 이번 해 안에는 영어, 운동, 손톱안뜯기 을(를) 시작할것이다.\n"
          ]
        }
      ]
    },
    {
      "cell_type": "markdown",
      "source": [
        "---"
      ],
      "metadata": {
        "id": "OE_nGnVuuvaj"
      }
    },
    {
      "cell_type": "markdown",
      "source": [
        "## 두 가지 input 받아보기"
      ],
      "metadata": {
        "id": "NQFiSB5HxWk4"
      }
    },
    {
      "cell_type": "code",
      "source": [
        "# 두가지 input 받아보기\n",
        "\n",
        "word1 = input(\"올해는 __와\")\n",
        "word2 = input(\"__에 집중하려고 한다.\")"
      ],
      "metadata": {
        "colab": {
          "base_uri": "https://localhost:8080/"
        },
        "id": "Dfjp_z9uu0U9",
        "outputId": "6cffc9f0-8230-4dd6-9067-dfa25167f3b5"
      },
      "execution_count": null,
      "outputs": [
        {
          "name": "stdout",
          "output_type": "stream",
          "text": [
            "올해는 __와공부\n",
            "__에 집중하려고 한다.건강\n"
          ]
        }
      ]
    },
    {
      "cell_type": "code",
      "source": [
        "# 1. 한 문장안에 두가지 input 출력하기(기본적인 방법)\n",
        "print(f\"올해는 {word1}와 {word2}에 집중하려고 한다.\")"
      ],
      "metadata": {
        "colab": {
          "base_uri": "https://localhost:8080/"
        },
        "id": "-0fXK0iTvBrk",
        "outputId": "a98e5c1f-e596-4ed1-e2f1-546c91c794ce"
      },
      "execution_count": null,
      "outputs": [
        {
          "output_type": "stream",
          "name": "stdout",
          "text": [
            "올해는 공부와 건강에 집중하려고 한다.\n"
          ]
        }
      ]
    },
    {
      "cell_type": "code",
      "source": [
        "# 2. end를 사용해서 다른 두 문장을 합치기\n",
        "print(f\"올해는 {word1}와\", end=\" \") # 엔터대신 공백이 들어간다.\n",
        "print(f\"{word2}에 집중하려고 한다.\")"
      ],
      "metadata": {
        "colab": {
          "base_uri": "https://localhost:8080/"
        },
        "id": "puHGHhjDvbUO",
        "outputId": "d1e42093-5edc-4e97-b054-0a247e5058a2"
      },
      "execution_count": null,
      "outputs": [
        {
          "output_type": "stream",
          "name": "stdout",
          "text": [
            "올해는 공부와 건강에 집중하려고 한다.\n"
          ]
        }
      ]
    },
    {
      "cell_type": "code",
      "source": [
        "print(f\"올해는 {word1}와\", end=\" \"); print(f\"{word2}에 집중하려고 한다.\")"
      ],
      "metadata": {
        "colab": {
          "base_uri": "https://localhost:8080/"
        },
        "id": "dwTWaEVxwn7p",
        "outputId": "fd011305-3ea0-4887-d565-1e0cfa411fbf"
      },
      "execution_count": null,
      "outputs": [
        {
          "output_type": "stream",
          "name": "stdout",
          "text": [
            "올해는 공부와 건강에 집중하려고 한다.\n"
          ]
        }
      ]
    },
    {
      "cell_type": "markdown",
      "source": [
        "## 두 가지 input **한번에** 받아보기"
      ],
      "metadata": {
        "id": "Gx9aS5-jxtxQ"
      }
    },
    {
      "cell_type": "code",
      "source": [
        "# 두 단어를 입력받고, 공백을 기준으로 나눠주기\n",
        "\n",
        "sentence_4 = input(\"올해는 __와 __에 집중하려고 한다.: \")\n",
        "word3, word4 = sentence_4.split()\n",
        "\n",
        "print(f\"올해는 {word3}와 {word4}에 집중하려고 한다.\")"
      ],
      "metadata": {
        "colab": {
          "base_uri": "https://localhost:8080/"
        },
        "id": "drAnSvLNxykY",
        "outputId": "9cb1633a-0255-4b1a-c862-b01ae2f0c511"
      },
      "execution_count": null,
      "outputs": [
        {
          "output_type": "stream",
          "name": "stdout",
          "text": [
            "올해는 __와 __에 집중하려고 한다.: 운동 공부\n",
            "올해는 운동와 공부에 집중하려고 한다.\n"
          ]
        }
      ]
    }
  ]
}