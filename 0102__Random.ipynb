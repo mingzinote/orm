{
  "nbformat": 4,
  "nbformat_minor": 0,
  "metadata": {
    "colab": {
      "provenance": [],
      "collapsed_sections": [
        "ihUaL05k_mSp"
      ],
      "include_colab_link": true
    },
    "kernelspec": {
      "name": "python3",
      "display_name": "Python 3"
    },
    "language_info": {
      "name": "python"
    }
  },
  "cells": [
    {
      "cell_type": "markdown",
      "metadata": {
        "id": "view-in-github",
        "colab_type": "text"
      },
      "source": [
        "<a href=\"https://colab.research.google.com/github/mingzinote/orm/blob/main/0102__Random.ipynb\" target=\"_parent\"><img src=\"https://colab.research.google.com/assets/colab-badge.svg\" alt=\"Open In Colab\"/></a>"
      ]
    },
    {
      "cell_type": "markdown",
      "source": [
        "#1. Randrange() 함수\n",
        "**`randrange(start, stop[, step])`**\n",
        "* `start`: 범위의 시작값입니다. 이 값은 범위에 포함됩니다. 만약 start가 생략되면, 기본값은 0이 됩니다.\n",
        "* `stop`: 범위의 끝값입니다. 이 값은 범위에 포함되지 않으며, 함수는 stop - 1까지의 수 중에서 무작위로 선택합니다.\n",
        "* `step`: 선택적 매개변수로, 숫자 간의 간격을 지정합니다. 예를 들어, step이 2이면 함수는 두 숫자 간격으로 무작위 수를 선택합니다."
      ],
      "metadata": {
        "id": "4S5QTd3X0Qif"
      }
    },
    {
      "cell_type": "code",
      "source": [
        "# 1. 기본 사용법\n",
        "\n",
        "import random # random 라이브러리 호출"
      ],
      "metadata": {
        "id": "0hDCnjxk1OXU"
      },
      "execution_count": null,
      "outputs": []
    },
    {
      "cell_type": "code",
      "source": [
        "# 0~9까지의 임의의 숫자를 선택하는 콛를 작성\n",
        "# 파이썬의 숫자의 시작은 무조건 0부터!\n",
        "# 10으로 입력하면 -1, 즉 9까지\n",
        "\n",
        "num = random.randrange(10) # 0에서 9까지 임의의 숫자를 선택해라.\n",
        "print(num)"
      ],
      "metadata": {
        "colab": {
          "base_uri": "https://localhost:8080/"
        },
        "id": "xAzYrt-D1Uyv",
        "outputId": "3f04c6c7-738b-44a2-fe2f-746bc057ae01"
      },
      "execution_count": null,
      "outputs": [
        {
          "output_type": "stream",
          "name": "stdout",
          "text": [
            "8\n"
          ]
        }
      ]
    },
    {
      "cell_type": "code",
      "source": [
        "# 1.2 시작값과 끝값을 지정\n",
        "\n",
        "num_2 = random.randrange(10, 20)\n",
        "print(num_2)"
      ],
      "metadata": {
        "colab": {
          "base_uri": "https://localhost:8080/"
        },
        "id": "XUhbwMgA1sBJ",
        "outputId": "f14caf06-0e0f-445c-ad67-29a949b4b921"
      },
      "execution_count": null,
      "outputs": [
        {
          "output_type": "stream",
          "name": "stdout",
          "text": [
            "12\n"
          ]
        }
      ]
    },
    {
      "cell_type": "code",
      "source": [
        "num_1 = random.randrange(1, 46)\n",
        "num_2 = random.randrange(1, 46)\n",
        "num_3 = random.randrange(1, 46)\n",
        "num_4 = random.randrange(1, 46)\n",
        "num_5 = random.randrange(1, 46)\n",
        "print(\"오늘의 로또 번호는\", num_1, num_2, num_3, num_4, num_5)"
      ],
      "metadata": {
        "colab": {
          "base_uri": "https://localhost:8080/"
        },
        "id": "2n0GhHSf2aTH",
        "outputId": "d71d56d1-8165-4cde-bdc6-282ae4f5a699"
      },
      "execution_count": null,
      "outputs": [
        {
          "output_type": "stream",
          "name": "stdout",
          "text": [
            "오늘의 로또 번호는 9 13 27 5 44\n"
          ]
        }
      ]
    },
    {
      "cell_type": "code",
      "source": [
        "# 1.3 간격 설정\n",
        "# 10부터 100까지 숫자 중에서 10의 간격으로 무작위 선택\n",
        "\n",
        "num10_100 = random.randrange(10, 101, 10)\n",
        "print(num10_100)"
      ],
      "metadata": {
        "id": "erNaKnu12xqg"
      },
      "execution_count": null,
      "outputs": []
    },
    {
      "cell_type": "markdown",
      "source": [
        "#2. Choice 함수\n",
        "`random.choice()` 함수는 파이썬의 `random` 라이브러리에서 제공하는 매우 유용한 함수 중 하나입니다. 이 함수는 주어진 시퀀스(예: 리스트, 튜플, 문자열 등)에서 무작위로 요소 하나를 선택하여 반환합니다. 시퀀스 내의 모든 요소는 선택될 가능성이 동일합니다. `random.choice()` 함수를 사용하는 여러 가지 측면에 대해 더 자세히 설명하겠습니다.  \n",
        "(시퀀스: 순서가 있는)"
      ],
      "metadata": {
        "id": "X3VYGqww7RYN"
      }
    },
    {
      "cell_type": "code",
      "source": [
        "# 1. Choice 기본 사용법\n",
        "# chosen_element = random.choice(sequence)\n",
        "\n",
        "# 리스트에서 무작위 과일 선택\n",
        "# 다양한 정보를 한번에 받아오는 것 = 리스트\n",
        "elements = [\"귤\", \"딸기\", \"체리\"]\n",
        "# random.choice 부분을 재 실행해야 다시 선택됨.\n",
        "choice_elemnets = random.choice(elements)\n",
        "print(f\"선택된 요소: {choice_elemnets} 입니다.\")"
      ],
      "metadata": {
        "colab": {
          "base_uri": "https://localhost:8080/"
        },
        "id": "QfBzb6yJ7fz8",
        "outputId": "84353d67-ecd8-4bc8-ea1e-9b049e8ff243"
      },
      "execution_count": null,
      "outputs": [
        {
          "output_type": "stream",
          "name": "stdout",
          "text": [
            "선택된 요소: 체리 입니다.\n"
          ]
        }
      ]
    },
    {
      "cell_type": "code",
      "source": [
        "# 2. 문자열에서 무작위 문자 선택\n",
        "\n",
        "greeting = \"안녕하새우\"\n",
        "choice_char = random.choice(greeting)\n",
        "print(f\"선택된 문자: {choice_char} 입니다.\")"
      ],
      "metadata": {
        "colab": {
          "base_uri": "https://localhost:8080/"
        },
        "id": "tqa_Kcuc8ZRk",
        "outputId": "2007933a-5601-443b-d778-5cf3cf01b803"
      },
      "execution_count": null,
      "outputs": [
        {
          "output_type": "stream",
          "name": "stdout",
          "text": [
            "선택된 문자: 녕 입니다.\n"
          ]
        }
      ]
    },
    {
      "cell_type": "markdown",
      "source": [
        "---"
      ],
      "metadata": {
        "id": "F-3wPy-p9Fn6"
      }
    },
    {
      "cell_type": "code",
      "source": [
        "test1 = input(\"임의의 숫자를 입력하세요\")\n",
        "type(test1)"
      ],
      "metadata": {
        "colab": {
          "base_uri": "https://localhost:8080/"
        },
        "id": "Dab0Ltbu-Zd6",
        "outputId": "9adcf06a-4ccc-478a-a637-c3ac1dddfa69"
      },
      "execution_count": null,
      "outputs": [
        {
          "name": "stdout",
          "output_type": "stream",
          "text": [
            "임의의 숫자를 입력하세요10\n"
          ]
        },
        {
          "output_type": "execute_result",
          "data": {
            "text/plain": [
              "str"
            ]
          },
          "metadata": {},
          "execution_count": 15
        }
      ]
    },
    {
      "cell_type": "code",
      "source": [
        "print(test1 + test1)"
      ],
      "metadata": {
        "colab": {
          "base_uri": "https://localhost:8080/"
        },
        "id": "_OACnhrf-hu7",
        "outputId": "2ce78424-2044-4512-f54a-74716871dc24"
      },
      "execution_count": null,
      "outputs": [
        {
          "output_type": "stream",
          "name": "stdout",
          "text": [
            "1010\n"
          ]
        }
      ]
    },
    {
      "cell_type": "code",
      "source": [
        "test2 = random.randrange(1, 46)\n",
        "type(test2)"
      ],
      "metadata": {
        "colab": {
          "base_uri": "https://localhost:8080/"
        },
        "id": "VLGVj3MS-n0x",
        "outputId": "353b7c7f-9ee0-4245-d4e9-3069c3e80383"
      },
      "execution_count": null,
      "outputs": [
        {
          "output_type": "execute_result",
          "data": {
            "text/plain": [
              "int"
            ]
          },
          "metadata": {},
          "execution_count": 17
        }
      ]
    },
    {
      "cell_type": "code",
      "source": [
        "print(test2 + test2)"
      ],
      "metadata": {
        "colab": {
          "base_uri": "https://localhost:8080/"
        },
        "id": "bvNeIbep-tTt",
        "outputId": "145547ed-313b-4239-a6cd-c81b85f8fa73"
      },
      "execution_count": null,
      "outputs": [
        {
          "output_type": "stream",
          "name": "stdout",
          "text": [
            "30\n"
          ]
        }
      ]
    },
    {
      "cell_type": "code",
      "source": [
        "print(int(test1) + int(test1))"
      ],
      "metadata": {
        "colab": {
          "base_uri": "https://localhost:8080/"
        },
        "id": "zXfB_AG0-u13",
        "outputId": "c4ab5773-981a-46c3-e67b-79f36b567ea8"
      },
      "execution_count": null,
      "outputs": [
        {
          "output_type": "stream",
          "name": "stdout",
          "text": [
            "20\n"
          ]
        }
      ]
    },
    {
      "cell_type": "code",
      "source": [
        "test3 = int(input(\"임의의 숫자를 입력하세요: \"))\n",
        "type(test3)\n",
        "print(test3 + test3)"
      ],
      "metadata": {
        "colab": {
          "base_uri": "https://localhost:8080/"
        },
        "id": "gChIrN7q-0m-",
        "outputId": "c3854e86-32c0-4e5d-df10-6402f787e3ed"
      },
      "execution_count": null,
      "outputs": [
        {
          "output_type": "stream",
          "name": "stdout",
          "text": [
            "임의의 숫자를 입력하세요: 10\n",
            "20\n"
          ]
        }
      ]
    },
    {
      "cell_type": "code",
      "source": [
        "# input으로 입력받은 값은 무조건 문자열로 저장되기 때문에\n",
        "# 숫자로 변환하려면 int함수를 사용해야한다.\n",
        "\n",
        "# 어떤 값을 입력받을때에는 그 값이 어떤 타입인지 인지해야한다. 문자/숫자를 경계해야함."
      ],
      "metadata": {
        "id": "YApfqKXk-7xq"
      },
      "execution_count": null,
      "outputs": []
    },
    {
      "cell_type": "markdown",
      "source": [
        "---"
      ],
      "metadata": {
        "id": "AJzzwgTd_igv"
      }
    },
    {
      "cell_type": "markdown",
      "source": [
        "#3. 주석 달아보기"
      ],
      "metadata": {
        "id": "ihUaL05k_mSp"
      }
    },
    {
      "cell_type": "code",
      "source": [
        "import random  # random 라이브러리 호출\n",
        "\n",
        "# 1부터 9까지의 숫자 무작위 생성, 1,2에 저장\n",
        "random_number1 = random.randint(1, 10)\n",
        "random_number2 = random.randint(1, 10)\n",
        "\n",
        "# 무작위 생성한 값 1,2를 sum_of_numbers에 저장\n",
        "sum_of_numbers = random_number1 + random_number2\n",
        "\n",
        "# 결과 출력\n",
        "print(f\"첫 번째 생성된 숫자: {random_number1}\")  # 첫번째 생성된 값\n",
        "print(f\"두 번째 생성된 숫자: {random_number2}\")  # 두번째 생성된 값\n",
        "print(f\"두 숫자의 합: {sum_of_numbers}\")  # 두 숫자의 합 출력"
      ],
      "metadata": {
        "colab": {
          "base_uri": "https://localhost:8080/"
        },
        "id": "_EeGyIpe_pun",
        "outputId": "3242f662-c49b-42f5-add5-bf5be81c2312"
      },
      "execution_count": null,
      "outputs": [
        {
          "output_type": "stream",
          "name": "stdout",
          "text": [
            "첫 번째 생성된 숫자: 8\n",
            "두 번째 생성된 숫자: 6\n",
            "두 숫자의 합: 14\n"
          ]
        }
      ]
    },
    {
      "cell_type": "code",
      "source": [
        "# 강사님 예시ver\n",
        "'''\n",
        "코드 실행 날짜 : 2024년 1월 2일\n",
        "버전 : V0.1\n",
        "작성자 : 지민경\n",
        "코드 내용 : random라이브러리를 활용해서 실습 예제 작성\n",
        "'''\n",
        "# 이런식으로 템플릿을 만들어서 사용하신다고 함.\n",
        "\n",
        "# 이 코드는 Random 라이브러리를 사용한 예시입니다.\n",
        "import random # random 라이브러리를 가져옵니다.\n",
        "\n",
        "# 두 개의 무작위 숫자를 생성하는 코드\n",
        "random_number1 = random.randint(1, 10)  #1부터 9까지의 임의의 숫자 한개를 가져옵니다. #(2024.1.2 에러) - 만약 에러가 발생했을때\n",
        "random_number2 = random.randint(1, 10)  #1부터 9까지의 임의의 숫자 한개를 가져옵니다. #(2024.1.2 업데이트)\n",
        "\n",
        "# 두 개의 무작위 숫자를 합산하는 코드 / 생성된 두 숫자의 합 계산\n",
        "sum_of_numbers = random_number1 + random_number2\n",
        "\n",
        "# 결과 출력\n",
        "print(f\"첫 번째 생성된 숫자: {random_number1}\")  # 첫번째 생성된 값\n",
        "print(f\"두 번째 생성된 숫자: {random_number2}\")  # 두번째 생성된 값\n",
        "print(f\"두 숫자의 합: {sum_of_numbers}\")  # 두 숫자의 합 출력"
      ],
      "metadata": {
        "colab": {
          "base_uri": "https://localhost:8080/"
        },
        "id": "5hjZ2ChzAME5",
        "outputId": "851f5ade-b0ad-4db6-907b-99093277d3aa"
      },
      "execution_count": null,
      "outputs": [
        {
          "output_type": "stream",
          "name": "stdout",
          "text": [
            "첫 번째 생성된 숫자: 8\n",
            "두 번째 생성된 숫자: 1\n",
            "두 숫자의 합: 9\n"
          ]
        }
      ]
    },
    {
      "cell_type": "markdown",
      "source": [
        "**주석을 달아놓는 습관**이 중요함.  \n",
        "나중에 코드를 다시 볼때에 시간을 단축시킬 수 있다.  \n",
        "자신만의 주석 스타일이 생길거임~  \n",
        "너무 많이 적어놓으면 가독성이 떨어지기 때문에, 코드에는 간단하게 달아놓고 따로 문서를 만드는게 낫다."
      ],
      "metadata": {
        "id": "ysbcxs4qAeyV"
      }
    },
    {
      "cell_type": "markdown",
      "source": [
        "#4. 주사위 던지기 게임 만들기"
      ],
      "metadata": {
        "id": "PKwWPSR_CEM1"
      }
    },
    {
      "cell_type": "code",
      "source": [
        "import random\n",
        "\n",
        "# 1부터 6까지 랜덤 값 생성\n",
        "dice_1 = random.randrange(1, 7)\n",
        "dice_2 = random.randrange(1, 7)\n",
        "\n",
        "# 두 값을 합산 및 출력\n",
        "total_dice = dice_1 + dice_2\n",
        "print(f\"첫번째 주사위 값은: {dice_1} \\n두번째 주사위 값은: {dice_2}\\\n",
        "\\n최종값은 {total_dice}입니다.\")"
      ],
      "metadata": {
        "colab": {
          "base_uri": "https://localhost:8080/"
        },
        "id": "UxOh7sAZCIkM",
        "outputId": "d24c37a8-460b-42a6-efb0-d20d056b1a1b"
      },
      "execution_count": null,
      "outputs": [
        {
          "output_type": "stream",
          "name": "stdout",
          "text": [
            "첫번째 주사위 값은: 5 \n",
            "두번째 주사위 값은: 3\n",
            "최종값은 8입니다.\n"
          ]
        }
      ]
    },
    {
      "cell_type": "markdown",
      "source": [
        "#5. 윷놀이 프로그래밍 하기"
      ],
      "metadata": {
        "id": "YQKDDDG9DQRg"
      }
    },
    {
      "cell_type": "code",
      "source": [
        "total_throw = 0\n",
        "\n",
        "for i in range(1, 5):\n",
        "  throw = random.choice([0, 1])\n",
        "  print(f\"{i}번째 윷은: {throw}\")\n",
        "  total_throw += throw\n",
        "\n",
        "if total_throw == 0:\n",
        "  print(\"모\")\n",
        "elif total_throw == 1:\n",
        "  print(\"도\")\n",
        "elif total_throw == 2:\n",
        "  print(\"개\")\n",
        "elif total_throw == 3:\n",
        "  print(\"걸\")\n",
        "else:\n",
        "  print(\"윷\")"
      ],
      "metadata": {
        "colab": {
          "base_uri": "https://localhost:8080/"
        },
        "id": "gxnRYqIcEwND",
        "outputId": "75892993-1423-4157-ef7a-7770f5d6f861"
      },
      "execution_count": null,
      "outputs": [
        {
          "output_type": "stream",
          "name": "stdout",
          "text": [
            "1번째 윷은: 1\n",
            "2번째 윷은: 0\n",
            "3번째 윷은: 0\n",
            "4번째 윷은: 1\n",
            "개\n"
          ]
        }
      ]
    },
    {
      "cell_type": "code",
      "source": [
        "import random\n",
        "\n",
        "throw_1 = random.randrange(2)\n",
        "throw_2 = random.randrange(2)\n",
        "throw_3 = random.randrange(2)\n",
        "throw_4 = random.randrange(2)\n",
        "\n",
        "# 나온 값을 더하기\n",
        "total_throw = throw_1 + throw_2 + throw_3 + throw_4\n",
        "result = [\"모\", \"도\", \"개\", \"걸\", \"윷\"]\n",
        "\n",
        "# result[0]은 모, [1]는 도... 이런식이므로\n",
        "# total_throw값을 result의 인덱스값으로 넣어준다.\n",
        "print(f\"<0: 모, 1: 도, 2: 개, 3: 걸, 4: 윷> \\\n",
        "\\n당신의 최종값은 {result[total_throw]}입니다.\")"
      ],
      "metadata": {
        "colab": {
          "base_uri": "https://localhost:8080/"
        },
        "id": "QDl37W3BINu0",
        "outputId": "23925d32-93b6-4a54-f7fc-4b5ab2a7a8ef"
      },
      "execution_count": null,
      "outputs": [
        {
          "output_type": "stream",
          "name": "stdout",
          "text": [
            "<0: 모, 1: 도, 2: 개, 3: 걸, 4: 윷> \n",
            "당신의 최종값은 개입니다.\n"
          ]
        }
      ]
    },
    {
      "cell_type": "code",
      "source": [
        "# 내가 처음에 썼던 반복문 버전과 강사님 버전을 합쳐서\n",
        "\n",
        "import random\n",
        "\n",
        "total_throw = 0\n",
        "\n",
        "for i in range(1, 5):\n",
        "  throw = random.choice([0, 1])\n",
        "  print(f\"{i}번째 윷은: {throw}\")\n",
        "  total_throw += throw\n",
        "\n",
        "# 앞으로는 짱구를 좀 더 굴리자ㅎㅎ if문 필요없었음\n",
        "result = [\"모\", \"도\", \"개\", \"걸\", \"윷\"]\n",
        "print(f\"{result[total_throw]} 입니다!\")"
      ],
      "metadata": {
        "colab": {
          "base_uri": "https://localhost:8080/"
        },
        "id": "gf6SLBxuK1f4",
        "outputId": "91c2adfb-e909-4cb2-9686-969c62e22a10"
      },
      "execution_count": null,
      "outputs": [
        {
          "output_type": "stream",
          "name": "stdout",
          "text": [
            "1번째 윷은: 1\n",
            "2번째 윷은: 1\n",
            "3번째 윷은: 0\n",
            "4번째 윷은: 0\n",
            "개 입니다!\n"
          ]
        }
      ]
    },
    {
      "cell_type": "markdown",
      "source": [
        "인덱싱 부분 온보딩때 배웠었는데 떠올리지 못함.  \n",
        "elif로 길게 적을 필요가 없었다!... 함수의 특성을 잘 생각해보고 쉬운 코드로 만들려고 해보자."
      ],
      "metadata": {
        "id": "UUuh0GQzLLxg"
      }
    }
  ]
}