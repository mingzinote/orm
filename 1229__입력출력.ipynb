{
  "nbformat": 4,
  "nbformat_minor": 0,
  "metadata": {
    "colab": {
      "provenance": [],
      "authorship_tag": "ABX9TyPZgF43QjItQbj9POlO635c",
      "include_colab_link": true
    },
    "kernelspec": {
      "name": "python3",
      "display_name": "Python 3"
    },
    "language_info": {
      "name": "python"
    }
  },
  "cells": [
    {
      "cell_type": "markdown",
      "metadata": {
        "id": "view-in-github",
        "colab_type": "text"
      },
      "source": [
        "<a href=\"https://colab.research.google.com/github/mingzinote/orm/blob/main/1229__%EC%9E%85%EB%A0%A5%EC%B6%9C%EB%A0%A5.ipynb\" target=\"_parent\"><img src=\"https://colab.research.google.com/assets/colab-badge.svg\" alt=\"Open In Colab\"/></a>"
      ]
    },
    {
      "cell_type": "markdown",
      "source": [
        "# 1. 입력함수 input\n",
        "\n",
        "## 1.1 input 실습 - 1"
      ],
      "metadata": {
        "id": "JJk54OBNKfv9"
      }
    },
    {
      "cell_type": "code",
      "source": [
        "input('입력해주세요')"
      ],
      "metadata": {
        "colab": {
          "base_uri": "https://localhost:8080/",
          "height": 54
        },
        "id": "hy0BKPk9Krvy",
        "outputId": "56742d35-a317-4801-a80f-deeaedb8b474"
      },
      "execution_count": null,
      "outputs": [
        {
          "name": "stdout",
          "output_type": "stream",
          "text": [
            "입력해주세요10\n"
          ]
        },
        {
          "output_type": "execute_result",
          "data": {
            "text/plain": [
              "'10'"
            ],
            "application/vnd.google.colaboratory.intrinsic+json": {
              "type": "string"
            }
          },
          "metadata": {},
          "execution_count": 2
        }
      ]
    },
    {
      "cell_type": "code",
      "source": [
        "int(input('입력해주세요'))"
      ],
      "metadata": {
        "colab": {
          "base_uri": "https://localhost:8080/"
        },
        "id": "Rzp2uxsoLVX0",
        "outputId": "600a439e-c830-4924-ddee-8ad8bffb1eb1"
      },
      "execution_count": null,
      "outputs": [
        {
          "name": "stdout",
          "output_type": "stream",
          "text": [
            "입력해주세요10\n"
          ]
        },
        {
          "output_type": "execute_result",
          "data": {
            "text/plain": [
              "10"
            ]
          },
          "metadata": {},
          "execution_count": 6
        }
      ]
    },
    {
      "cell_type": "markdown",
      "source": [
        "# 1.2 input 실습 - 2\n",
        "\n",
        "input으로 받은 값을 변수에 할당"
      ],
      "metadata": {
        "id": "wbDfUezhLijD"
      }
    },
    {
      "cell_type": "code",
      "source": [
        "name = input('이름을 입력해주세요')"
      ],
      "metadata": {
        "id": "vjtt1CB2Lhrl"
      },
      "execution_count": null,
      "outputs": []
    },
    {
      "cell_type": "code",
      "source": [
        "print(\"Hello, \" + name + \"!\")"
      ],
      "metadata": {
        "id": "-r5UgbMYL9Mf"
      },
      "execution_count": null,
      "outputs": []
    },
    {
      "cell_type": "code",
      "source": [
        "# input을 활용한 덧셈 - 문자열인 경우\n",
        "a = input(\"첫번째 숫자를 입력해주세요\")\n",
        "b = input(\"두번째 숫자를 입력해주세요\")\n",
        "\n",
        "print(\"a + b = \", a+b, \"입니다.\")"
      ],
      "metadata": {
        "id": "X2-8pvsDMHym"
      },
      "execution_count": null,
      "outputs": []
    },
    {
      "cell_type": "code",
      "source": [
        "# input을 활용한 덧셈 - 숫자열인 경우\n",
        "a = int(input(\"첫번째 숫자를 입력해주세요\"))\n",
        "b = int(input(\"두번째 숫자를 입력해주세요\"))\n",
        "\n",
        "print(\"a + b = \", a+b, \"입니다.\")"
      ],
      "metadata": {
        "colab": {
          "base_uri": "https://localhost:8080/"
        },
        "id": "1ThkumffMhMG",
        "outputId": "76ea1a0a-b7f6-4d47-8913-eb8b437384b7"
      },
      "execution_count": null,
      "outputs": [
        {
          "output_type": "stream",
          "name": "stdout",
          "text": [
            "첫번째 숫자를 입력해주세요10\n",
            "두번째 숫자를 입력해주세요20\n",
            "a + b = 30 입니다.\n"
          ]
        }
      ]
    },
    {
      "cell_type": "markdown",
      "source": [
        "# 2.출력함수 Print"
      ],
      "metadata": {
        "id": "Vd8mKdsbd0Ok"
      }
    },
    {
      "cell_type": "code",
      "source": [
        "# 1. 여러줄 출력\n",
        "'출력합니다.'\n",
        "'출력합니다.'"
      ],
      "metadata": {
        "colab": {
          "base_uri": "https://localhost:8080/",
          "height": 36
        },
        "id": "g1KvKelTdn7i",
        "outputId": "06e023e0-e38e-4bee-e13c-f16ea68c9804"
      },
      "execution_count": null,
      "outputs": [
        {
          "output_type": "execute_result",
          "data": {
            "text/plain": [
              "'출력합니다.'"
            ],
            "application/vnd.google.colaboratory.intrinsic+json": {
              "type": "string"
            }
          },
          "metadata": {},
          "execution_count": 12
        }
      ]
    },
    {
      "cell_type": "code",
      "source": [
        "# 2. 여러값 출력\n",
        "\n",
        "print(\"hello\", \"world\", \"!\")"
      ],
      "metadata": {
        "colab": {
          "base_uri": "https://localhost:8080/"
        },
        "id": "IPXJC81geJ8_",
        "outputId": "c669b6d8-dc7e-4f41-b199-fe3cba053f07"
      },
      "execution_count": null,
      "outputs": [
        {
          "output_type": "stream",
          "name": "stdout",
          "text": [
            "hello world !\n"
          ]
        }
      ]
    },
    {
      "cell_type": "code",
      "source": [
        "# 3. sep 구분자\n",
        "\n",
        "print(\"hello\", \"world\", \"i\", sep = \"-\")"
      ],
      "metadata": {
        "colab": {
          "base_uri": "https://localhost:8080/"
        },
        "id": "We2kqsKyegZv",
        "outputId": "d78740fc-ec37-4beb-cec6-743d86d0cd5a"
      },
      "execution_count": null,
      "outputs": [
        {
          "output_type": "stream",
          "name": "stdout",
          "text": [
            "hello-world-i\n"
          ]
        }
      ]
    },
    {
      "cell_type": "code",
      "source": [
        "# 3. sep 구분자 / end 구분자\n",
        "\n",
        "print(\"hello\", \"world\", \"!\" , sep = \"-\", end = \"!!!\")"
      ],
      "metadata": {
        "colab": {
          "base_uri": "https://localhost:8080/"
        },
        "id": "oYvhARhgezTJ",
        "outputId": "1848bd2e-5194-4a10-a8b8-521d283b3e83"
      },
      "execution_count": null,
      "outputs": [
        {
          "output_type": "stream",
          "name": "stdout",
          "text": [
            "hello-world-!!!!"
          ]
        }
      ]
    },
    {
      "cell_type": "code",
      "source": [
        "# 4. f-string\n",
        "# 4.1 f-stering에서 f가 없을때\n",
        "name = 'licat'\n",
        "age = 10\n",
        "print('제 이름은 {name}, 제 나이는 {age} 입니다.')"
      ],
      "metadata": {
        "colab": {
          "base_uri": "https://localhost:8080/"
        },
        "id": "JcyRKl4ogDpL",
        "outputId": "cb11adc9-7bde-4c50-8396-6687568eb218"
      },
      "execution_count": null,
      "outputs": [
        {
          "output_type": "stream",
          "name": "stdout",
          "text": [
            "제 이름은 {name}, 제 나이는 {age} 입니다.\n"
          ]
        }
      ]
    },
    {
      "cell_type": "code",
      "source": [
        "# 4.2 f-stering에서 중괄호가 없을때\n",
        "name = 'licat'\n",
        "age = 10\n",
        "print(f'제 이름은 name, 제 나이는 age 입니다.')"
      ],
      "metadata": {
        "colab": {
          "base_uri": "https://localhost:8080/"
        },
        "id": "li67eJV-gp0P",
        "outputId": "94d7ea9c-c3e0-4269-8cad-ca02da6fdc5d"
      },
      "execution_count": null,
      "outputs": [
        {
          "output_type": "stream",
          "name": "stdout",
          "text": [
            "제 이름은 name, 제 나이는 age 입니다.\n"
          ]
        }
      ]
    },
    {
      "cell_type": "code",
      "source": [
        "# 4.3 f-string을 제대로 사용했을때\n",
        "name = 'licat'\n",
        "age = 10\n",
        "print(f'제 이름은 {name}, 제 나이는 {age} 입니다.')"
      ],
      "metadata": {
        "colab": {
          "base_uri": "https://localhost:8080/"
        },
        "id": "C8AeJuLTg9XJ",
        "outputId": "cb515acf-8296-4e94-837e-4739c57eb2b0"
      },
      "execution_count": null,
      "outputs": [
        {
          "output_type": "stream",
          "name": "stdout",
          "text": [
            "제 이름은 licat, 제 나이는 10 입니다.\n"
          ]
        }
      ]
    },
    {
      "cell_type": "code",
      "source": [
        "# 4.4 예시\n",
        "name = input(\"이름을 입력해주세요\")\n",
        "age = int(input(\"나이를 입력해주세요\"))\n",
        "\n",
        "print(f'제 이름은 {name}, 제 나이는 {age} 입니다.')"
      ],
      "metadata": {
        "colab": {
          "base_uri": "https://localhost:8080/"
        },
        "id": "5UjBE-GjhlYl",
        "outputId": "93b35ed0-db3e-4d4c-e1f8-a7b7b2a91cbe"
      },
      "execution_count": null,
      "outputs": [
        {
          "output_type": "stream",
          "name": "stdout",
          "text": [
            "이름을 입력해주세요장민지\n",
            "나이를 입력해주세요18\n",
            "제 이름은 장민지, 제 나이는 18 입니다.\n"
          ]
        }
      ]
    },
    {
      "cell_type": "code",
      "source": [
        "# 5. None\n",
        "\n",
        "a = None"
      ],
      "metadata": {
        "id": "RzXf63QqiPPj"
      },
      "execution_count": null,
      "outputs": []
    },
    {
      "cell_type": "code",
      "source": [
        "a"
      ],
      "metadata": {
        "id": "X5BYaFMFiUw6"
      },
      "execution_count": null,
      "outputs": []
    },
    {
      "cell_type": "code",
      "source": [
        "print(a)"
      ],
      "metadata": {
        "colab": {
          "base_uri": "https://localhost:8080/"
        },
        "id": "She5YbdliVn3",
        "outputId": "26227e65-5bac-473b-88df-98cfc939c1f3"
      },
      "execution_count": null,
      "outputs": [
        {
          "output_type": "stream",
          "name": "stdout",
          "text": [
            "None\n"
          ]
        }
      ]
    }
  ]
}